{
 "cells": [
  {
   "cell_type": "markdown",
   "id": "3fd8a0b0",
   "metadata": {},
   "source": [
    "# Building Your First \"Deep\" Neural Network Introduction to Backpropagation\n",
    "\n",
    "## IN THIS CHAPTER\n",
    "\n",
    "* The Streetlight Problem\n",
    "* Matrices and the Matrix Relationship\n",
    "* Full / Batch / Stochastic Gradient Descent\n",
    "* Neural Networks Learn Correlation\n",
    "* Overfitting\n",
    "* Creating our Own Correlation\n",
    "* Backpropagation: Long Distance Error Attribution\n",
    "* Linear vs Non-Linear\n",
    "* The Secret to Sometimes Correlation\n",
    "* Our First \"Deep\" Network\n",
    "* Backpropagation in Code / Bringing it all Together"
   ]
  },
  {
   "cell_type": "code",
   "execution_count": 1,
   "id": "a77809b5",
   "metadata": {},
   "outputs": [
    {
     "name": "stdout",
     "output_type": "stream",
     "text": [
      "Error:[0.04] Prediction:-0.19999999999999996\n",
      "Error:[0.0256] Prediction:-0.15999999999999992\n",
      "Error:[0.016384] Prediction:-0.1279999999999999\n",
      "Error:[0.01048576] Prediction:-0.10239999999999982\n",
      "Error:[0.00671089] Prediction:-0.08191999999999977\n",
      "Error:[0.00429497] Prediction:-0.06553599999999982\n",
      "Error:[0.00274878] Prediction:-0.05242879999999994\n",
      "Error:[0.00175922] Prediction:-0.04194304000000004\n",
      "Error:[0.0011259] Prediction:-0.03355443200000008\n",
      "Error:[0.00072058] Prediction:-0.02684354560000002\n",
      "Error:[0.00046117] Prediction:-0.021474836479999926\n",
      "Error:[0.00029515] Prediction:-0.01717986918399994\n",
      "Error:[0.00018889] Prediction:-0.013743895347199997\n",
      "Error:[0.00012089] Prediction:-0.010995116277759953\n",
      "Error:[7.73712525e-05] Prediction:-0.008796093022207963\n",
      "Error:[4.95176016e-05] Prediction:-0.007036874417766459\n",
      "Error:[3.1691265e-05] Prediction:-0.0056294995342132115\n",
      "Error:[2.02824096e-05] Prediction:-0.004503599627370569\n",
      "Error:[1.29807421e-05] Prediction:-0.003602879701896544\n",
      "Error:[8.30767497e-06] Prediction:-0.002882303761517324\n"
     ]
    }
   ],
   "source": [
    "import numpy as np \n",
    "\n",
    "# inputs \n",
    "streetlights = np.array( \n",
    "                         [  \n",
    "                            [ 1, 0, 1 ],\n",
    "                            [ 0, 1, 1 ],\n",
    "                            [ 0, 0, 1 ],\n",
    "                            [ 1, 1, 1 ],\n",
    "                            [ 0, 1, 1 ],\n",
    "                            [ 1, 0, 1 ] \n",
    "                         ] \n",
    "                       )\n",
    "\n",
    "# outputs\n",
    "walk_vs_stop = np.array( \n",
    "                            [   \n",
    "                                 [ 0 ],\n",
    "                                 [ 1 ],\n",
    "                                 [ 0 ],\n",
    "                                 [ 1 ],\n",
    "                                 [ 1 ],\n",
    "                                 [ 0 ] \n",
    "                             ] \n",
    "                        )\n",
    "\n",
    "# weights \n",
    "weights = np.array( [0.5, 0.48, -0.7] )\n",
    "\n",
    "# input \n",
    "input = streetlights[0]\n",
    "\n",
    "# target value \n",
    "goal_prediction = walk_vs_stop[0]\n",
    "\n",
    "# alpha's job is to avoids jumping irrelevant values. \n",
    "alpha = 0.1\n",
    "\n",
    "prediction = 0\n",
    "for iteration in range(20):\n",
    "    prediction = input.dot(weights)\n",
    "    error = (goal_prediction - prediction) ** 2 \n",
    "    delta = prediction - goal_prediction\n",
    "    #print(f'Before Weights = {weights}')\n",
    "    weights = weights - (alpha * (input * delta))\n",
    "    #print(f'Weights = {weights}, ->>{alpha * (input * delta)}')\n",
    "    print (\"Error:\" + str(error) + \" Prediction:\" + str(prediction))"
   ]
  },
  {
   "cell_type": "markdown",
   "id": "21da1175",
   "metadata": {},
   "source": [
    "### Small practice that is irrelevant our network"
   ]
  },
  {
   "cell_type": "code",
   "execution_count": 15,
   "id": "45e60c92",
   "metadata": {},
   "outputs": [
    {
     "name": "stdout",
     "output_type": "stream",
     "text": [
      "[0 2 4 3]\n",
      "[2 3 4 4]\n",
      "[0.  0.5 1.  0.5]\n",
      "[0.5 1.5 2.5 1.5]\n"
     ]
    }
   ],
   "source": [
    "import numpy as np\n",
    "a = np.array([0,1,2,1])\n",
    "b = np.array([2,2,2,3])\n",
    "print (a*b) #elementwise multiplication\n",
    "print (a+b) #elementwise addition\n",
    "print (a * 0.5) # vector-scalar multiplication\n",
    "print (a + 0.5) # vector-scalar addition"
   ]
  },
  {
   "cell_type": "markdown",
   "id": "538cd80b",
   "metadata": {},
   "source": [
    "### *We need it to know more than one streetlight! How do we do this? Well... we train it on all the streetlights at once!"
   ]
  },
  {
   "cell_type": "code",
   "execution_count": 4,
   "id": "d2520d28",
   "metadata": {
    "scrolled": true
   },
   "outputs": [
    {
     "name": "stdout",
     "output_type": "stream",
     "text": [
      "Prediction : -0.19999999999999996\n",
      "Prediction : -0.19999999999999996\n",
      "Prediction : -0.6599999999999999\n",
      "Prediction : 0.42600000000000005\n",
      "Prediction : -0.17919999999999997\n",
      "Prediction : -0.1412799999999999\n",
      "Error for all : 0.7491486783999998 \n",
      "\n",
      "Prediction : -0.1130239999999999\n",
      "Prediction : -0.11792959999999986\n",
      "Prediction : -0.5814566399999999\n",
      "Prediction : 0.46663238399999996\n",
      "Prediction : -0.1295244927999999\n",
      "Prediction : -0.10085460351999997\n",
      "Error for all : 0.6094676664160464 \n",
      "\n",
      "Prediction : -0.08068368281600002\n",
      "Prediction : -0.08546576560640001\n",
      "Prediction : -0.53032135992576\n",
      "Prediction : 0.4589805137410559\n",
      "Prediction : -0.1071365792407552\n",
      "Prediction : -0.08405067852371972\n",
      "Error for all : 0.5242608737226604 \n",
      "\n",
      "Prediction : -0.06724054281897579\n",
      "Prediction : -0.07058014125833462\n",
      "Prediction : -0.4902864811231111\n",
      "Prediction : 0.4361165960994073\n",
      "Prediction : -0.09465878411423806\n",
      "Prediction : -0.07546321282549368\n",
      "Error for all : 0.454736347803985 \n",
      "\n",
      "Prediction : -0.06037057026039494\n",
      "Prediction : -0.0621436489828015\n",
      "Prediction : -0.4556058710024478\n",
      "Prediction : 0.40936944760641564\n",
      "Prediction : -0.08602822160727958\n",
      "Prediction : -0.06979257157034618\n",
      "Error for all : 0.394938351147257 \n",
      "\n",
      "Prediction : -0.05583405725627694\n",
      "Prediction : -0.05625991440316136\n",
      "Prediction : -0.4241907521791382\n",
      "Prediction : 0.3825606415098175\n",
      "Prediction : -0.07910098460657883\n",
      "Prediction : -0.06522420898809722\n",
      "Error for all : 0.3430842217889076 \n",
      "\n",
      "Prediction : -0.05217936719047778\n",
      "Prediction : -0.05154043006740555\n",
      "Prediction : -0.3952232420269502\n",
      "Prediction : 0.35692377143007914\n",
      "Prediction : -0.0730947741372453\n",
      "Prediction : -0.06114240341523797\n",
      "Error for all : 0.29805633144366306 \n",
      "\n",
      "Prediction : -0.04891392273219036\n",
      "Prediction : -0.04747018669505343\n",
      "Prediction : -0.3683311662692904\n",
      "Prediction : 0.33280401402392973\n",
      "Prediction : -0.06770383553389964\n",
      "Prediction : -0.05734142214071386\n",
      "Error for all : 0.2589441982967705 \n",
      "\n",
      "Prediction : -0.04587313771257112\n",
      "Prediction : -0.043841612441791245\n",
      "Prediction : -0.3433024502618568\n",
      "Prediction : 0.3102450564087316\n",
      "Prediction : -0.06279205620899364\n",
      "Prediction : -0.053753909560539104\n",
      "Error for all : 0.2249673242429405 \n",
      "\n",
      "Prediction : -0.04300312764843128\n",
      "Prediction : -0.04055794124629797\n",
      "Prediction : -0.3199860074101181\n",
      "Prediction : 0.28919154715997625\n",
      "Prediction : -0.05828606168802186\n",
      "Prediction : -0.05035781051629651\n",
      "Error for all : 0.19545018553982949 \n",
      "\n",
      "Prediction : -0.040286248413037185\n",
      "Prediction : -0.037564443457484054\n",
      "Prediction : -0.29825710497762\n",
      "Prediction : 0.26955870632471335\n",
      "Prediction : -0.05413758553316794\n",
      "Prediction : -0.04714482659854524\n",
      "Error for all : 0.1698067788909195 \n",
      "\n",
      "Prediction : -0.037715861278836194\n",
      "Prediction : -0.034823999638796205\n",
      "Prediction : -0.2780050378073948\n",
      "Prediction : 0.25125605281790797\n",
      "Prediction : -0.05030990649387912\n",
      "Prediction : -0.044110005192643575\n",
      "Error for all : 0.14752838151629155 \n",
      "\n",
      "Prediction : -0.03528800415411487\n",
      "Prediction : -0.03230812426042748\n",
      "Prediction : -0.2591285352983397\n",
      "Prediction : 0.23419529852258247\n",
      "Prediction : -0.04677270558302454\n",
      "Prediction : -0.04124852651362926\n",
      "Error for all : 0.12817322071345433 \n",
      "\n",
      "Prediction : -0.03299882121090342\n",
      "Prediction : -0.029993429693966372\n",
      "Prediction : -0.2415338633206116\n",
      "Prediction : 0.21829279189817352\n",
      "Prediction : -0.043499915802746675\n",
      "Prediction : -0.03855489446662502\n",
      "Error for all : 0.11135760071357391 \n",
      "\n",
      "Prediction : -0.030843915573300018\n",
      "Prediction : -0.027860051638204847\n",
      "Prediction : -0.22513387843028015\n",
      "Prediction : 0.20347009766792484\n",
      "Prediction : -0.04046867300112081\n",
      "Prediction : -0.036022891685264374\n",
      "Error for all : 0.09674823568707126 \n",
      "\n",
      "Prediction : -0.0288183133482115\n",
      "Prediction : -0.025890817897549073\n",
      "Prediction : -0.20984743076083007\n",
      "Prediction : 0.18965395063005946\n",
      "Prediction : -0.03765870136796817\n",
      "Prediction : -0.0336457458019464\n",
      "Error for all : 0.08405560882144116 \n",
      "\n",
      "Prediction : -0.0269165966415571\n",
      "Prediction : -0.02407072685002415\n",
      "Prediction : -0.1955989056816034\n",
      "Prediction : 0.17677601014150118\n",
      "Prediction : -0.035051892940159174\n",
      "Prediction : -0.031416326794367205\n",
      "Error for all : 0.07302821351918053 \n",
      "\n",
      "Prediction : -0.025133061435493764\n",
      "Prediction : -0.02238657552914125\n",
      "Prediction : -0.18231783045767702\n",
      "Prediction : 0.1647725614846509\n",
      "Prediction : -0.032631989674475476\n",
      "Prediction : -0.029327321879195817\n",
      "Error for all : 0.06344755642077059 \n",
      "\n",
      "Prediction : -0.023461857503356637\n",
      "Prediction : -0.020826673801325135\n",
      "Prediction : -0.16993851927453912\n",
      "Prediction : 0.15358421353838017\n",
      "Prediction : -0.030384329821282224\n",
      "Prediction : -0.027371376420646715\n",
      "Error for all : 0.05512381982640947 \n",
      "\n",
      "Prediction : -0.021897101136517355\n",
      "Prediction : -0.019380616101309367\n",
      "Prediction : -0.15839974635294765\n",
      "Prediction : 0.14315560880811196\n",
      "Prediction : -0.02829564000737514\n",
      "Prediction : -0.02554120242467306\n",
      "Error for all : 0.04789209556127363 \n",
      "\n",
      "Prediction : -0.020432961939738425\n",
      "Prediction : -0.018039095569458957\n",
      "Prediction : -0.1476444426043395\n",
      "Prediction : 0.13343515041436144\n",
      "Prediction : -0.0263538622780055\n",
      "Prediction : -0.023829659589482646\n",
      "Error for all : 0.04160911443376294 \n",
      "\n",
      "Prediction : -0.01906372767158611\n",
      "Prediction : -0.016793751096297535\n",
      "Prediction : -0.13761941332180452\n",
      "Prediction : 0.12437474674930782\n",
      "Prediction : -0.024548008894719142\n",
      "Prediction : -0.02222981415584832\n",
      "Error for all : 0.036150405718711684 \n",
      "\n",
      "Prediction : -0.017783851324678662\n",
      "Prediction : -0.01563704056772261\n",
      "Prediction : -0.128275075170258\n",
      "Prediction : 0.115929573230135\n",
      "Prediction : -0.02286803958317929\n",
      "Prediction : -0.020734980173653952\n",
      "Error for all : 0.03140782990209113 \n",
      "\n",
      "Prediction : -0.016587984138923165\n",
      "Prediction : -0.014562135235285725\n",
      "Prediction : -0.11956521106314147\n",
      "Prediction : 0.10805785019361708\n",
      "Prediction : -0.02130475712063784\n",
      "Prediction : -0.01933874700795543\n",
      "Error for all : 0.027287435497250746 \n",
      "\n",
      "Prediction : -0.015470997606364334\n",
      "Prediction : -0.013562831235078274\n",
      "Prediction : -0.11144674167918542\n",
      "Prediction : 0.10072063589745771\n",
      "Prediction : -0.019849717999635613\n",
      "Prediction : -0.01803499617319307\n",
      "Error for all : 0.023707597276174823 \n",
      "\n",
      "Prediction : -0.014427996938554455\n",
      "Prediction : -0.012633475088533755\n",
      "Prediction : -0.10387951248102097\n",
      "Prediction : 0.09388163361630585\n",
      "Prediction : -0.018495155545986075\n",
      "Prediction : -0.016817909962550642\n",
      "Error for all : 0.0205973989064111 \n",
      "\n",
      "Prediction : -0.013454327970040508\n",
      "Prediction : -0.011768900643529728\n",
      "Prediction : -0.09682609518233874\n",
      "Prediction : 0.08750701187406937\n",
      "Prediction : -0.0172339133714038\n",
      "Prediction : -0.015681973831119064\n",
      "Error for all : 0.017895227872203483 \n",
      "\n",
      "Prediction : -0.012545579064895243\n",
      "Prediction : -0.010964375407521612\n",
      "Prediction : -0.09025160268401784\n",
      "Prediction : 0.08156523691523831\n",
      "Prediction : -0.01605938744066318\n",
      "Prediction : -0.014621974081743594\n",
      "Error for all : 0.015547554793239887 \n",
      "\n",
      "Prediction : -0.011697579265394886\n",
      "Prediction : -0.010215554617816688\n",
      "Prediction : -0.08412351656657804\n",
      "Prediction : 0.07602691657844828\n",
      "Prediction : -0.014965475353285199\n",
      "Prediction : -0.013632992074237557\n",
      "Error for all : 0.013507872926219466 \n",
      "\n",
      "Prediction : -0.010906393659390043\n",
      "Prediction : -0.009518441709265399\n",
      "Prediction : -0.07841152628814724\n",
      "Prediction : 0.07086465479296415\n",
      "Prediction : -0.0139465316971904\n",
      "Prediction : -0.012710395916644551\n",
      "Error for all : 0.01173577681972764 \n",
      "\n",
      "Prediction : -0.010168316733315641\n",
      "Prediction : -0.008869354092756299\n",
      "Prediction : -0.07308737929463822\n",
      "Prediction : 0.06605291597252012\n",
      "Prediction : -0.012997328539245234\n",
      "Prediction : -0.01184983038849255\n",
      "Error for all : 0.010196161857235958 \n",
      "\n",
      "Prediction : -0.009479864310794034\n",
      "Prediction : -0.008264893361467518\n",
      "Prediction : -0.06812474130242648\n",
      "Prediction : 0.06156789863100663\n",
      "Prediction : -0.012113020285132704\n",
      "Prediction : -0.011047205679933884\n",
      "Error for all : 0.008858528822750737 \n",
      "\n",
      "Prediction : -0.008837764543947108\n",
      "Prediction : -0.007701919205718062\n",
      "Prediction : -0.06349906606381132\n",
      "Prediction : 0.05738741759103213\n",
      "Prediction : -0.01128911227639974\n",
      "Prediction : -0.010298685398771198\n",
      "Error for all : 0.007696379707261459 \n",
      "\n",
      "Prediction : -0.008238948319016962\n",
      "Prediction : -0.007177526449340978\n",
      "Prediction : -0.05918747397218051\n",
      "Prediction : 0.05349079419964631\n",
      "Prediction : -0.010521432602183994\n",
      "Prediction : -0.009600674192772274\n",
      "Error for all : 0.006686692783608945 \n",
      "\n",
      "Prediction : -0.007680539354217822\n",
      "Prediction : -0.006689024727048187\n",
      "Prediction : -0.05516863890730486\n",
      "Prediction : 0.049858754005727354\n",
      "Prediction : -0.009806106692053534\n",
      "Prediction : -0.008949805251879078\n",
      "Error for all : 0.005809466548961476 \n",
      "\n",
      "Prediction : -0.007159844201503257\n",
      "Prediction : -0.006233920408304595\n",
      "Prediction : -0.051422682761773066\n",
      "Prediction : 0.04647333139093455\n",
      "Prediction : -0.009139534328653283\n",
      "Prediction : -0.008342927889516419\n",
      "Error for all : 0.005047323499150755 \n",
      "\n",
      "Prediction : -0.006674342311613138\n",
      "Prediction : -0.005809900442809671\n",
      "Prediction : -0.047931077127429965\n",
      "Prediction : 0.043317780680915664\n",
      "Prediction : -0.008518368777687885\n",
      "Prediction : -0.007777095350680899\n",
      "Error for all : 0.00438516588488977 \n",
      "\n",
      "Prediction : -0.006221676280544722\n",
      "Prediction : -0.005414817859027747\n",
      "Prediction : -0.044676551655984414\n",
      "Prediction : 0.04037649329582765\n",
      "Prediction : -0.007939497780789291\n",
      "Prediction : -0.007249552954021174\n",
      "Error for all : 0.003809876629968513 \n",
      "\n",
      "Prediction : -0.005799642363216936\n",
      "Prediction : -0.005046678692907619\n",
      "Prediction : -0.04164300864087524\n",
      "Prediction : 0.03763492052935389\n",
      "Prediction : -0.007400026196109341\n",
      "Prediction : -0.0067577266434551\n",
      "Error for all : 0.003310059486376228 \n",
      "\n",
      "Prediction : -0.005406181314764086\n",
      "Prediction : -0.004703630161065557\n",
      "Prediction : -0.0388154433981837\n",
      "Prediction : 0.0350795015734449\n",
      "Prediction : -0.006897260103723053\n",
      "Prediction : -0.006299212000203017\n",
      "Error for all : 0.002875813278701027 \n",
      "\n"
     ]
    }
   ],
   "source": [
    "import numpy as np\n",
    "weights = np.array([0.5,0.48,-0.7])\n",
    "alpha = 0.1\n",
    "streetlights = np.array( [  [ 1, 0, 1 ],\n",
    "                            [ 0, 1, 1 ],\n",
    "                            [ 0, 0, 1 ],\n",
    "                            [ 1, 1, 1 ],\n",
    "                            [ 0, 1, 1 ],\n",
    "                            [ 1, 0, 1 ] ] )\n",
    "walk_vs_stop = np.array( [ 0, 1, 0, 1, 1, 0 ] )\n",
    "input = streetlights[0] # [1,0,1]\n",
    "goal_prediction = walk_vs_stop[0] # equals 0... i.e. \"stop\"\n",
    "\n",
    "for iteration in range(40):\n",
    "    error_for_all_lights = 0 \n",
    "    for row_index in range(len(walk_vs_stop)):\n",
    "        input = streetlights[row_index]\n",
    "        prediction = input.dot(weights)\n",
    "        \n",
    "        error = (goal_prediction - prediction) ** 2\n",
    "        error_for_all_lights += error\n",
    "        #print(f'input = {input}, delta={delta}, prediction = {prediction}')\n",
    "        delta = prediction - goal_prediction \n",
    "        #print(f'input*delta = {input*delta}')\n",
    "        weights = weights - (alpha * (input * delta))\n",
    "        print(f'Prediction : {prediction}')\n",
    "    print(f'Error for all : {error_for_all_lights} \\n')"
   ]
  },
  {
   "cell_type": "code",
   "execution_count": null,
   "id": "32942826",
   "metadata": {},
   "outputs": [],
   "source": []
  },
  {
   "cell_type": "code",
   "execution_count": 5,
   "id": "bf025754",
   "metadata": {},
   "outputs": [
    {
     "data": {
      "text/plain": [
       "array([ 0.03208283,  0.03223432, -0.0371222 ])"
      ]
     },
     "execution_count": 5,
     "metadata": {},
     "output_type": "execute_result"
    }
   ],
   "source": [
    "weights"
   ]
  },
  {
   "cell_type": "markdown",
   "id": "450a443f",
   "metadata": {},
   "source": [
    "## Full / Batch / Stochastic Gradient Descent\n",
    "\n",
    "* Stochastic Gradient Descent - Updating weights one example at a time.\n",
    "    \n",
    "    -> As it turns out, this idea of learning \"one example at a time\" is a variant on Gradient\n",
    "Descent called Stochastic Gradient Descent, and it is one of the handful of methods that can\n",
    "be used for learning an entire dataset.\n",
    "\n",
    "    -> How does Stochastic Gradient Descent work? As exemplified on the previous page,\n",
    "it simply performs a prediction and weight update for each training example separately. In\n",
    "other words, it takes the first streetlight, tries to predict it, calculates teh weight_delta, adn\n",
    "updates the weights. Then it moves onto the second streetlight, etc. It iterates through the\n",
    "entire dataset many times until it can find a weight configuration that works well for all of\n",
    "the training examples.\n",
    "\n",
    "\n",
    "* (Full) Gradient Descent - Updating weights one dataset at a time.\n",
    "As it turns out, another method for learning an entire dataset is just called Gradient Descent\n",
    "(or \"Average/Full Gradient Descent\" if you like). Instead of updating the weights once\n",
    "for each training example, the network simply calculates the average weight_delta over the\n",
    "entire dataset, only actually changing the weights each time it computes a full average.\n",
    "\n",
    "\n",
    "* Batch Gradient Descent - Updating weights after \"n\" examples.\n",
    "This will be covered in more detail later, but there is also a third configuration that sortof\n",
    "\"splits the difference\" between Stochastic Gradient Descent and Full Gradient Descent.\n",
    "Instead of updating the weights after just one or after the entire dataset of examples, you\n",
    "choose a \"batch size\" (typically between 8 and 256) after which the weights are updated."
   ]
  },
  {
   "cell_type": "markdown",
   "id": "fdfd0cc6",
   "metadata": {},
   "source": [
    "## Our First \"Deep\" Neural Network\n",
    "\n",
    "* In the code below, we initialize our weights and make a forward propagation. New is bold."
   ]
  },
  {
   "cell_type": "code",
   "execution_count": 31,
   "id": "4d3d9779",
   "metadata": {},
   "outputs": [],
   "source": [
    "import numpy as np \n",
    "np.random.seed(1)\n",
    "\n",
    "def relu(x):  # this function sets all negative numbers to 0\n",
    "    return (x>0) * x  # 0'dan kucuk ise 0, aksi halde sayinin kendisi\n",
    "\n",
    "alpha = 0.2\n",
    "hidden_size = 4 \n",
    "\n",
    "streetlights = np.array( [  \n",
    "                            [ 1, 0, 1 ],\n",
    "                            [ 0, 1, 1 ],\n",
    "                            [ 0, 0, 1 ],\n",
    "                            [ 1, 1, 1 ] \n",
    "                         ] \n",
    "                       )\n",
    "\n",
    "walk_vs_stop = np.array([[ 1, 1, 0, 0]]).T\n",
    "\n",
    "weights_0_1 = 2*np.random.random((3,hidden_size)) - 1\n",
    "weights_1_2 = 2*np.random.random((hidden_size,1)) - 1 \n",
    "\n",
    "layer_0 = streetlights[0]\n",
    "layer_1 = relu(np.dot(layer_0, weights_0_1))\n",
    "layer_2 = np.dot(layer_1, weights_1_2)"
   ]
  },
  {
   "cell_type": "code",
   "execution_count": 16,
   "id": "3f3715be",
   "metadata": {},
   "outputs": [
    {
     "data": {
      "text/plain": [
       "array([-0.        ,  0.51828245, -0.        , -0.        ])"
      ]
     },
     "execution_count": 16,
     "metadata": {},
     "output_type": "execute_result"
    }
   ],
   "source": [
    "layer_1"
   ]
  },
  {
   "cell_type": "code",
   "execution_count": 7,
   "id": "a53ed64a",
   "metadata": {},
   "outputs": [
    {
     "data": {
      "text/plain": [
       "array([0.39194327])"
      ]
     },
     "execution_count": 7,
     "metadata": {},
     "output_type": "execute_result"
    }
   ],
   "source": [
    "layer_2"
   ]
  },
  {
   "cell_type": "code",
   "execution_count": 13,
   "id": "8ae46c2d",
   "metadata": {},
   "outputs": [
    {
     "data": {
      "text/plain": [
       "array([1, 0, 1])"
      ]
     },
     "execution_count": 13,
     "metadata": {},
     "output_type": "execute_result"
    }
   ],
   "source": [
    "layer_0"
   ]
  },
  {
   "cell_type": "code",
   "execution_count": 32,
   "id": "505aad8a",
   "metadata": {},
   "outputs": [
    {
     "data": {
      "text/plain": [
       "array([[-0.16595599,  0.44064899, -0.99977125, -0.39533485],\n",
       "       [-0.70648822, -0.81532281, -0.62747958, -0.30887855],\n",
       "       [-0.20646505,  0.07763347, -0.16161097,  0.370439  ]])"
      ]
     },
     "execution_count": 32,
     "metadata": {},
     "output_type": "execute_result"
    }
   ],
   "source": [
    "weights_0_1"
   ]
  },
  {
   "cell_type": "markdown",
   "id": "e4ac2c03",
   "metadata": {},
   "source": [
    "## Backpropagation in Code\n",
    "\n",
    " * How we can learn the amount that each weight contributes to the final error."
   ]
  },
  {
   "cell_type": "code",
   "execution_count": 42,
   "id": "4c9b2596",
   "metadata": {},
   "outputs": [
    {
     "name": "stdout",
     "output_type": "stream",
     "text": [
      "Error : 0.6342311598444467\n",
      "Error : 0.35838407676317513\n",
      "Error : 0.0830183113303298\n",
      "Error : 0.006467054957103705\n",
      "Error : 0.0003292669000750734\n",
      "Error : 1.5055622665134859e-05\n"
     ]
    }
   ],
   "source": [
    "import numpy as np \n",
    "\n",
    "np.random.seed(1)\n",
    "\n",
    "streetlights = np.array( [  \n",
    "                            [ 1, 0, 1 ],\n",
    "                            [ 0, 1, 1 ],\n",
    "                            [ 0, 0, 1 ],\n",
    "                            [ 1, 1, 1 ] \n",
    "                         ] \n",
    "                       )\n",
    "\n",
    "walk_vs_stop = np.array([[ 1, 1, 0, 0]]).T\n",
    "\n",
    "def relu(x):\n",
    "    return (x > 0) * x      # returns x if x > 0\n",
    "                            # return 0 otherwise\n",
    "    \n",
    "def relu2deriv(output):\n",
    "    return output>0         # returns 1 for input > 0\n",
    "                            # return 0 otherwise \n",
    "    \n",
    "alpha = 0.2\n",
    "hidden_size = 4\n",
    "\n",
    "weights_0_1 = 2 * np.random.random((3,hidden_size)) - 1\n",
    "weights_1_2 = 2 * np.random.random((hidden_size,1 )) - 1\n",
    "\n",
    "for iteration in range(60):\n",
    "    layer_2_error = 0\n",
    "    for i in range(len(streetlights)):\n",
    "        layer_0 = streetlights[i:i+1]\n",
    "        layer_1 = relu(np.dot(layer_0, weights_0_1))\n",
    "        layer_2 = np.dot(layer_1, weights_1_2)\n",
    "        \n",
    "        layer_2_error += np.sum((layer_2 - walk_vs_stop[i:i+1]) ** 2)\n",
    "        \n",
    "        layer_2_delta = (walk_vs_stop[i:i+1] - layer_2)\n",
    "        \n",
    "        layer_1_delta = layer_2_delta.dot(weights_1_2.T) * relu2deriv(layer_1)\n",
    "        '''\n",
    "            this line computes the delta at layer_1 given the delta at layer_2 by taking\n",
    "            the layer_2_delta and multiplying it by its connecting weights_1_2\n",
    "        '''\n",
    "        weights_1_2 += alpha * layer_1.T.dot(layer_2_delta)\n",
    "        weights_0_1 += alpha * layer_0.T.dot(layer_1_delta)\n",
    "        \n",
    "    if(iteration % 10 == 9):\n",
    "        print(f'Error : {layer_2_error}')"
   ]
  },
  {
   "cell_type": "code",
   "execution_count": 36,
   "id": "82bb8476",
   "metadata": {},
   "outputs": [
    {
     "data": {
      "text/plain": [
       "array([[0.36973299]])"
      ]
     },
     "execution_count": 36,
     "metadata": {},
     "output_type": "execute_result"
    }
   ],
   "source": [
    "(layer_2 - walk_vs_stop[0:0+1]) ** 2"
   ]
  },
  {
   "cell_type": "code",
   "execution_count": 37,
   "id": "9fbbed5b",
   "metadata": {},
   "outputs": [
    {
     "data": {
      "text/plain": [
       "array([0.39194327])"
      ]
     },
     "execution_count": 37,
     "metadata": {},
     "output_type": "execute_result"
    }
   ],
   "source": [
    "layer_2"
   ]
  },
  {
   "cell_type": "code",
   "execution_count": 39,
   "id": "9249be16",
   "metadata": {},
   "outputs": [
    {
     "data": {
      "text/plain": [
       "array([[-0.5910955 ,  0.75623487, -0.94522481,  0.34093502]])"
      ]
     },
     "execution_count": 39,
     "metadata": {},
     "output_type": "execute_result"
    }
   ],
   "source": [
    "weights_1_2.T"
   ]
  },
  {
   "cell_type": "markdown",
   "id": "8e85ba67",
   "metadata": {},
   "source": [
    "# One Iteration of Backpropagation"
   ]
  },
  {
   "cell_type": "markdown",
   "id": "01cc29cf",
   "metadata": {},
   "source": [
    "## 1) Initialize the Network's Weights and Data"
   ]
  },
  {
   "cell_type": "code",
   "execution_count": 54,
   "id": "c7bf7fd5",
   "metadata": {},
   "outputs": [],
   "source": [
    "import numpy as np \n",
    "\n",
    "np.random.seed(1)\n",
    "\n",
    "def relu(x):\n",
    "    return (x>0) * x\n",
    "\n",
    "def relu2deriv(output):\n",
    "    return output>0\n",
    "\n",
    "lights = np.array( \n",
    "                    [\n",
    "                        [1, 0, 1],\n",
    "                        [0, 1, 1],\n",
    "                        [0, 0, 1],\n",
    "                        [1, 1, 1]\n",
    "                    ]\n",
    "                 )\n",
    "\n",
    "walk_stop = np.array([[1, 1, 0, 0]]).T\n",
    "\n",
    "alpha = 0.2\n",
    "hidden_size = 3\n",
    "\n",
    "weights_0_1 = 2*np.random.random((3, hidden_size)) - 1\n",
    "weights_1_2 = 2*np.random.random((hidden_size, 1)) - 1"
   ]
  },
  {
   "cell_type": "markdown",
   "id": "af2e267b",
   "metadata": {},
   "source": [
    "## 2) PREDICT & COMPARE: Make a Prediction, Calculate Output Error and Delta"
   ]
  },
  {
   "cell_type": "code",
   "execution_count": 55,
   "id": "38878de0",
   "metadata": {},
   "outputs": [
    {
     "name": "stdout",
     "output_type": "stream",
     "text": [
      "layer_1 = [[-0.          0.13177044 -0.        ]]\n",
      "layer_2 = [[-0.02129555]]\n"
     ]
    }
   ],
   "source": [
    "layer_0 = lights[0:1]\n",
    "\n",
    "layer_1 = np.dot(layer_0, weights_0_1)\n",
    "layer_1 = relu(layer_1)\n",
    "print(f'layer_1 = {layer_1}')\n",
    "\n",
    "layer_2 = np.dot(layer_1, weights_1_2)\n",
    "print(f'layer_2 = {layer_2}')\n",
    "\n",
    "error = (layer_2 - walk_stop[0:1]) ** 2\n",
    "\n",
    "layer_2_delta = (layer_2 - walk_stop[0:1])"
   ]
  },
  {
   "cell_type": "markdown",
   "id": "b1428654",
   "metadata": {},
   "source": [
    "## 3) LEARN: Backpropagate From layer_2 to layer_1"
   ]
  },
  {
   "cell_type": "code",
   "execution_count": 56,
   "id": "3d199ff4",
   "metadata": {},
   "outputs": [],
   "source": [
    "layer_1_delta = layer_2_delta.dot(weights_1_2.T)"
   ]
  },
  {
   "cell_type": "code",
   "execution_count": 57,
   "id": "8337ecbd",
   "metadata": {},
   "outputs": [
    {
     "data": {
      "text/plain": [
       "array([[-1.02129555]])"
      ]
     },
     "execution_count": 57,
     "metadata": {},
     "output_type": "execute_result"
    }
   ],
   "source": [
    "# just tried\n",
    "layer_2_delta"
   ]
  },
  {
   "cell_type": "code",
   "execution_count": 58,
   "id": "0e3366c0",
   "metadata": {},
   "outputs": [
    {
     "data": {
      "text/plain": [
       "array([[ 0.07763347],\n",
       "       [-0.16161097],\n",
       "       [ 0.370439  ]])"
      ]
     },
     "execution_count": 58,
     "metadata": {},
     "output_type": "execute_result"
    }
   ],
   "source": [
    "# just tried\n",
    "weights_1_2"
   ]
  },
  {
   "cell_type": "code",
   "execution_count": 59,
   "id": "d4d0ea25",
   "metadata": {},
   "outputs": [
    {
     "data": {
      "text/plain": [
       "array([[-0.07928672,  0.16505257, -0.3783277 ]])"
      ]
     },
     "execution_count": 59,
     "metadata": {},
     "output_type": "execute_result"
    }
   ],
   "source": [
    "# just tried\n",
    "layer_1_delta"
   ]
  },
  {
   "cell_type": "code",
   "execution_count": 60,
   "id": "43434154",
   "metadata": {},
   "outputs": [],
   "source": [
    "layer_1_delta *= relu2deriv(layer_1) # - li olan değerli saptayıp etkisiz hale getiriyoruz."
   ]
  },
  {
   "cell_type": "code",
   "execution_count": 61,
   "id": "47c7d2b7",
   "metadata": {},
   "outputs": [
    {
     "data": {
      "text/plain": [
       "array([[False,  True, False]])"
      ]
     },
     "execution_count": 61,
     "metadata": {},
     "output_type": "execute_result"
    }
   ],
   "source": [
    "# just tried\n",
    "relu2deriv(layer_1)"
   ]
  },
  {
   "cell_type": "code",
   "execution_count": 62,
   "id": "4157dcd3",
   "metadata": {},
   "outputs": [
    {
     "data": {
      "text/plain": [
       "array([[-0.        ,  0.16505257, -0.        ]])"
      ]
     },
     "execution_count": 62,
     "metadata": {},
     "output_type": "execute_result"
    }
   ],
   "source": [
    "# just tried\n",
    "layer_1_delta"
   ]
  },
  {
   "cell_type": "markdown",
   "id": "65bb7782",
   "metadata": {},
   "source": [
    "## 4) LEARN: Generate Weight Deltas and Update Weights"
   ]
  },
  {
   "cell_type": "code",
   "execution_count": 72,
   "id": "0ab4d436",
   "metadata": {},
   "outputs": [],
   "source": [
    "weight_delta_1_2 = layer_1.T.dot(layer_2_delta)\n",
    "weight_delta_0_1 = layer_0.T.dot(layer_1_delta)\n",
    "\n",
    "weights_1_2 -= alpha * weight_delta_1_2\n",
    "weights_0_1 -= alpha * weight_delta_0_1"
   ]
  },
  {
   "cell_type": "code",
   "execution_count": 69,
   "id": "58e373bf",
   "metadata": {},
   "outputs": [
    {
     "data": {
      "text/plain": [
       "array([[1],\n",
       "       [0],\n",
       "       [1]])"
      ]
     },
     "execution_count": 69,
     "metadata": {},
     "output_type": "execute_result"
    }
   ],
   "source": [
    "# just tried\n",
    "layer_0.T"
   ]
  },
  {
   "cell_type": "code",
   "execution_count": 70,
   "id": "fc797d41",
   "metadata": {},
   "outputs": [
    {
     "data": {
      "text/plain": [
       "array([[-0.        ,  0.16505257, -0.        ]])"
      ]
     },
     "execution_count": 70,
     "metadata": {},
     "output_type": "execute_result"
    }
   ],
   "source": [
    "# just tried\n",
    "layer_1_delta"
   ]
  },
  {
   "cell_type": "code",
   "execution_count": 71,
   "id": "d32a990e",
   "metadata": {},
   "outputs": [
    {
     "data": {
      "text/plain": [
       "array([[-0.        ,  0.16505257, -0.        ],\n",
       "       [-0.        ,  0.        , -0.        ],\n",
       "       [-0.        ,  0.16505257, -0.        ]])"
      ]
     },
     "execution_count": 71,
     "metadata": {},
     "output_type": "execute_result"
    }
   ],
   "source": [
    "# just tried\n",
    "weight_delta_0_1"
   ]
  },
  {
   "cell_type": "code",
   "execution_count": 73,
   "id": "66c8f8f3",
   "metadata": {},
   "outputs": [
    {
     "data": {
      "text/plain": [
       "array([[ 0.07763347],\n",
       "       [-0.13469566],\n",
       "       [ 0.370439  ]])"
      ]
     },
     "execution_count": 73,
     "metadata": {},
     "output_type": "execute_result"
    }
   ],
   "source": [
    "# just tried\n",
    "weights_1_2"
   ]
  },
  {
   "cell_type": "markdown",
   "id": "e96774ee",
   "metadata": {},
   "source": [
    "* As we can see, backpropagation in its entirety is about calculating deltas for intermediate\n",
    "layers so that we can perform Gradient Descent. In order to do so, we simply take\n",
    "the weighted average delta on layer_2 for layer_1 (weighted by the weights inbetween them).\n",
    "We then turn off (set to 0) nodes that weren't participating in the forward prediction, since\n",
    "they could not have contributed to the error."
   ]
  },
  {
   "cell_type": "markdown",
   "id": "1b2d1db7",
   "metadata": {},
   "source": [
    "## Putting it all together: Here's the self sufficient program"
   ]
  },
  {
   "cell_type": "code",
   "execution_count": 79,
   "id": "f0ef7b10",
   "metadata": {},
   "outputs": [
    {
     "name": "stdout",
     "output_type": "stream",
     "text": [
      "Error : -0.04582578503217233\n",
      "Error : 0.13479559058037924\n",
      "Error : 0.09509399355028508\n",
      "Error : 0.0335902124677014\n",
      "Error : 0.008381318009502588\n",
      "Error : 0.0018016776786300738\n"
     ]
    }
   ],
   "source": [
    "import numpy as np \n",
    "\n",
    "np.random.seed(1)\n",
    "\n",
    "def relu(x):\n",
    "    return (x>0) * x\n",
    "\n",
    "def relu2deriv(output):\n",
    "    return output>0\n",
    "\n",
    "streetlights = np.array( [  \n",
    "                            [ 1, 0, 1 ],\n",
    "                            [ 0, 1, 1 ],\n",
    "                            [ 0, 0, 1 ],\n",
    "                            [ 1, 1, 1 ] \n",
    "                         ] \n",
    "                       )\n",
    "\n",
    "walk_vs_stop = np.array([[ 1, 1, 0, 0]]).T\n",
    "\n",
    "alpha = 0.2 \n",
    "hidden_size = 4\n",
    "\n",
    "weights_0_1 = 2*np.random.random((3,hidden_size)) - 1\n",
    "weights_1_2 = 2*np.random.random((hidden_size,1)) -1 \n",
    "\n",
    "for iteration in range(60):\n",
    "    layer_2_error = 0\n",
    "    for i in range(len(streetlights)):\n",
    "        layer_0 = streetlights[i:i+1]\n",
    "        layer_1 = relu(np.dot(layer_0, weights_0_1))\n",
    "        layer_2 = np.dot(layer_1, weights_1_2)\n",
    "        \n",
    "        layer_2_error += np.sum((layer_2 - walk_vs_stop[i:i+1]))\n",
    "        \n",
    "        layer_2_delta = (layer_2 - walk_vs_stop[i:i+1])\n",
    "        layer_1_delta = layer_2_delta.dot(weights_1_2.T) * relu2deriv(layer_1)\n",
    "        \n",
    "        weights_1_2 -= alpha * layer_1.T.dot(layer_2_delta)\n",
    "        weights_0_1 -= alpha * layer_0.T.dot(layer_1_delta)\n",
    "    \n",
    "    if(iteration % 10 == 9):\n",
    "        print(f'Error : {layer_2_error}')"
   ]
  },
  {
   "cell_type": "code",
   "execution_count": null,
   "id": "5c65342e",
   "metadata": {},
   "outputs": [],
   "source": []
  },
  {
   "cell_type": "code",
   "execution_count": null,
   "id": "371f2007",
   "metadata": {},
   "outputs": [],
   "source": []
  },
  {
   "cell_type": "code",
   "execution_count": null,
   "id": "0b5a7324",
   "metadata": {},
   "outputs": [],
   "source": []
  },
  {
   "cell_type": "code",
   "execution_count": null,
   "id": "b27ec6e2",
   "metadata": {},
   "outputs": [],
   "source": []
  },
  {
   "cell_type": "code",
   "execution_count": null,
   "id": "a073ccf8",
   "metadata": {},
   "outputs": [],
   "source": []
  },
  {
   "cell_type": "code",
   "execution_count": null,
   "id": "f440ecb6",
   "metadata": {},
   "outputs": [],
   "source": []
  },
  {
   "cell_type": "code",
   "execution_count": null,
   "id": "e28c1021",
   "metadata": {},
   "outputs": [],
   "source": []
  },
  {
   "cell_type": "code",
   "execution_count": null,
   "id": "90822552",
   "metadata": {},
   "outputs": [],
   "source": []
  },
  {
   "cell_type": "code",
   "execution_count": null,
   "id": "fa29b7a6",
   "metadata": {},
   "outputs": [],
   "source": []
  },
  {
   "cell_type": "code",
   "execution_count": null,
   "id": "542618e4",
   "metadata": {},
   "outputs": [],
   "source": []
  },
  {
   "cell_type": "code",
   "execution_count": null,
   "id": "761e5751",
   "metadata": {},
   "outputs": [],
   "source": []
  },
  {
   "cell_type": "code",
   "execution_count": null,
   "id": "bcb46e2d",
   "metadata": {},
   "outputs": [],
   "source": []
  },
  {
   "cell_type": "code",
   "execution_count": null,
   "id": "6e812881",
   "metadata": {},
   "outputs": [],
   "source": []
  },
  {
   "cell_type": "code",
   "execution_count": null,
   "id": "d4b590a4",
   "metadata": {},
   "outputs": [],
   "source": []
  },
  {
   "cell_type": "code",
   "execution_count": null,
   "id": "2d9e66f2",
   "metadata": {},
   "outputs": [],
   "source": []
  },
  {
   "cell_type": "code",
   "execution_count": null,
   "id": "d88cceed",
   "metadata": {},
   "outputs": [],
   "source": []
  },
  {
   "cell_type": "code",
   "execution_count": null,
   "id": "715cdf07",
   "metadata": {},
   "outputs": [],
   "source": []
  },
  {
   "cell_type": "code",
   "execution_count": null,
   "id": "3ef7b73a",
   "metadata": {},
   "outputs": [],
   "source": []
  },
  {
   "cell_type": "code",
   "execution_count": null,
   "id": "ec5da2a3",
   "metadata": {},
   "outputs": [],
   "source": []
  },
  {
   "cell_type": "code",
   "execution_count": null,
   "id": "e3f050aa",
   "metadata": {},
   "outputs": [],
   "source": []
  },
  {
   "cell_type": "code",
   "execution_count": null,
   "id": "b2077e54",
   "metadata": {},
   "outputs": [],
   "source": []
  },
  {
   "cell_type": "code",
   "execution_count": null,
   "id": "874bd6c7",
   "metadata": {},
   "outputs": [],
   "source": []
  },
  {
   "cell_type": "code",
   "execution_count": null,
   "id": "c559772c",
   "metadata": {},
   "outputs": [],
   "source": []
  },
  {
   "cell_type": "code",
   "execution_count": null,
   "id": "6ec2f412",
   "metadata": {},
   "outputs": [],
   "source": []
  }
 ],
 "metadata": {
  "kernelspec": {
   "display_name": "Python 3",
   "language": "python",
   "name": "python3"
  },
  "language_info": {
   "codemirror_mode": {
    "name": "ipython",
    "version": 3
   },
   "file_extension": ".py",
   "mimetype": "text/x-python",
   "name": "python",
   "nbconvert_exporter": "python",
   "pygments_lexer": "ipython3",
   "version": "3.8.8"
  }
 },
 "nbformat": 4,
 "nbformat_minor": 5
}
