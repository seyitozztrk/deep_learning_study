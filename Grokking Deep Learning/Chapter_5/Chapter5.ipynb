{
 "cells": [
  {
   "cell_type": "markdown",
   "id": "cd95efe4",
   "metadata": {},
   "source": [
    "# Learning Multiple Weights at a Time Generalizing Gradient Descent\n",
    "\n",
    "-> Gradient Descent Learning with Multiple Inputs\n",
    "\n",
    "-> Freezing One Weight - What does it do?\n",
    "\n",
    "-> Gradient Descent Learning with Multiple Outputs\n",
    "\n",
    "-> Gradient Descent Learning with Multiple Inputs and Outputs\n",
    "\n",
    "-> Visualizing Weight Values\n",
    "\n",
    "-> Visualizing Dot Products\n",
    "\n",
    "-> Learning Multiple Weights at a Time\n",
    "\n",
    "-> Generalizing Gradient Descent"
   ]
  },
  {
   "cell_type": "markdown",
   "id": "519ad3e8",
   "metadata": {},
   "source": [
    "## Gradient Descent Learning with Multiple Inputs"
   ]
  },
  {
   "cell_type": "markdown",
   "id": "df7bcce4",
   "metadata": {},
   "source": [
    "### An Empty Network With Multiple Inputs"
   ]
  },
  {
   "cell_type": "code",
   "execution_count": 41,
   "id": "97ff8dbf",
   "metadata": {},
   "outputs": [],
   "source": [
    "def w_sum(a,b):\n",
    "    assert(len(a) == len(b))\n",
    "    output = 0\n",
    "    for i in range(len(a)):\n",
    "        output += (a[i] * b[i])\n",
    "    \n",
    "    return output"
   ]
  },
  {
   "cell_type": "code",
   "execution_count": 42,
   "id": "89ad7d4e",
   "metadata": {},
   "outputs": [],
   "source": [
    "weights = [0.1, 0.2, -0.1]\n",
    "\n",
    "def neural_network(input, weights):\n",
    "    pred = w_sum(input, weights)\n",
    "    return pred "
   ]
  },
  {
   "cell_type": "markdown",
   "id": "f5a1bdd2",
   "metadata": {},
   "source": [
    "### PREDICT+COMPARE: Making a Prediction and Calculating Error And Delta"
   ]
  },
  {
   "cell_type": "code",
   "execution_count": 43,
   "id": "61d5309e",
   "metadata": {},
   "outputs": [],
   "source": [
    "toes = [8.5, 9.5, 9.9, 9.0]\n",
    "wlrec = [0.65, 0.8, 0.8, 0.9]\n",
    "nfans = [1.2, 1.3, 0.5, 1.0]\n",
    "\n",
    "win_or_lose_binary = [1, 1, 0, 1]\n",
    "\n",
    "true = win_or_lose_binary[0]\n",
    "\n",
    "# input corresponds to every entry \n",
    "# for the first game of the season \n",
    "\n",
    "input = [toes[0], wlrec[0], nfans[0]]\n",
    "pred = neural_network(input, weights)\n",
    "error = (pred - true) ** 2\n",
    "delta = pred - true"
   ]
  },
  {
   "cell_type": "code",
   "execution_count": 44,
   "id": "9d7f7b3f",
   "metadata": {},
   "outputs": [
    {
     "name": "stdout",
     "output_type": "stream",
     "text": [
      " input = [8.5, 0.65, 1.2]  \n",
      " prediction = 0.8600000000000001 \n",
      " error = 0.01959999999999997 \n",
      " delta = -0.1399999999999999\n"
     ]
    }
   ],
   "source": [
    "print(f' input = {input}  \\n prediction = {pred} \\n error = {error} \\n delta = {delta}')"
   ]
  },
  {
   "cell_type": "markdown",
   "id": "a4eff7ea",
   "metadata": {},
   "source": [
    "### LEARN: Calculating Each \"Weight Delta\" and Putting It on Each Weight"
   ]
  },
  {
   "cell_type": "code",
   "execution_count": 45,
   "id": "52b90291",
   "metadata": {},
   "outputs": [],
   "source": [
    "# ele_mul(delta[0.14], weights[0.1, 0.2, -0.1]\n",
    "def ele_mul(number, vector):\n",
    "    output = [0, 0, 0]\n",
    "    assert(len(output) == len(vector))\n",
    "    \n",
    "    for i in range(len(vector)):\n",
    "        output[i] = number * vector[i]\n",
    "        print('i', i)\n",
    "    return output"
   ]
  },
  {
   "cell_type": "code",
   "execution_count": 46,
   "id": "90a47d6d",
   "metadata": {},
   "outputs": [
    {
     "name": "stdout",
     "output_type": "stream",
     "text": [
      "i 0\n",
      "i 1\n",
      "i 2\n"
     ]
    }
   ],
   "source": [
    "weight_deltas = ele_mul(delta, weights)"
   ]
  },
  {
   "cell_type": "code",
   "execution_count": 47,
   "id": "d295d559",
   "metadata": {},
   "outputs": [
    {
     "data": {
      "text/plain": [
       "[-0.013999999999999992, -0.027999999999999983, 0.013999999999999992]"
      ]
     },
     "execution_count": 47,
     "metadata": {},
     "output_type": "execute_result"
    }
   ],
   "source": [
    "weight_deltas"
   ]
  },
  {
   "cell_type": "markdown",
   "id": "7f273d79",
   "metadata": {},
   "source": [
    "### LEARN: Updating the Weights"
   ]
  },
  {
   "cell_type": "code",
   "execution_count": 48,
   "id": "79eb5bde",
   "metadata": {},
   "outputs": [],
   "source": [
    "alpha = 0.01\n",
    "\n",
    "for i in range(len(weights)):\n",
    "    weights[i] -= alpha * weight_deltas[i] # ? -> weight_deltas[0]"
   ]
  },
  {
   "cell_type": "code",
   "execution_count": 49,
   "id": "dc460928",
   "metadata": {},
   "outputs": [
    {
     "data": {
      "text/plain": [
       "[0.10014, 0.20028, -0.10014]"
      ]
     },
     "execution_count": 49,
     "metadata": {},
     "output_type": "execute_result"
    }
   ],
   "source": [
    "weights"
   ]
  },
  {
   "cell_type": "markdown",
   "id": "3a02fbd5",
   "metadata": {},
   "source": [
    "## Gradient Descent with Multiple Inputs - Explained"
   ]
  },
  {
   "cell_type": "markdown",
   "id": "1be6126a",
   "metadata": {},
   "source": [
    "### Single Input: Making a Prediction and Calculating Error and Delta"
   ]
  },
  {
   "cell_type": "code",
   "execution_count": 69,
   "id": "fdec462a",
   "metadata": {},
   "outputs": [],
   "source": [
    "number_of_toes = [8.5]\n",
    "win_or_lose_binary = [1] \n",
    "weight = weights[0]\n",
    "input = number_of_toes[0]\n",
    "true = win_or_lose_binary[0]\n",
    "\n",
    "pred = neural_network([input], [0.1])\n",
    "error = (pred - true) ** 2 \n",
    "delta = pred - true "
   ]
  },
  {
   "cell_type": "code",
   "execution_count": 70,
   "id": "ccc5df39",
   "metadata": {},
   "outputs": [
    {
     "name": "stdout",
     "output_type": "stream",
     "text": [
      " input = 8.5  \n",
      " prediction = 0.8500000000000001 \n",
      " error = 0.022499999999999975 \n",
      " delta = -0.1499999999999999\n"
     ]
    }
   ],
   "source": [
    "print(f' input = {input}  \\n prediction = {pred} \\n error = {error} \\n delta = {delta}')"
   ]
  },
  {
   "cell_type": "code",
   "execution_count": 71,
   "id": "a30119d7",
   "metadata": {},
   "outputs": [
    {
     "name": "stdout",
     "output_type": "stream",
     "text": [
      "-1.2749999999999992\n"
     ]
    }
   ],
   "source": [
    "weight_delta = input * delta\n",
    "print(weight_delta)"
   ]
  },
  {
   "cell_type": "code",
   "execution_count": 72,
   "id": "59408b7d",
   "metadata": {},
   "outputs": [
    {
     "name": "stdout",
     "output_type": "stream",
     "text": [
      "0.11289\n"
     ]
    }
   ],
   "source": [
    "alpha = 0.01 # fi xed before training\n",
    "weight -= weight_delta * alpha\n",
    "print(weight)"
   ]
  },
  {
   "cell_type": "code",
   "execution_count": 61,
   "id": "2ec1530e",
   "metadata": {},
   "outputs": [],
   "source": [
    "toes = [8.5, 9.5, 9.9, 9.0]\n",
    "wlrec = [0.65, 0.8, 0.8, 0.9]\n",
    "nfans = [1.2, 1.3, 0.5, 1.0]\n",
    "win_or_lose_binary = [1, 1, 0, 1]\n",
    "true = win_or_lose_binary[0]\n",
    "# input corresponds to every entry\n",
    "# for the fi rst game of the season\n",
    "input = [toes[0],wlrec[0],nfans[0]]\n",
    "pred = neural_network(input,weights)\n",
    "error = (pred - true) ** 2\n",
    "delta = pred - true"
   ]
  },
  {
   "cell_type": "code",
   "execution_count": 62,
   "id": "b5a2bf7a",
   "metadata": {},
   "outputs": [
    {
     "name": "stdout",
     "output_type": "stream",
     "text": [
      " input = [8.5, 0.65, 1.2]  \n",
      " prediction = 0.8612040000000001 \n",
      " error = 0.019264329615999977 \n",
      " delta = -0.13879599999999992\n"
     ]
    }
   ],
   "source": [
    "print(f' input = {input}  \\n prediction = {pred} \\n error = {error} \\n delta = {delta}')"
   ]
  },
  {
   "cell_type": "code",
   "execution_count": 74,
   "id": "ed89ee46",
   "metadata": {},
   "outputs": [
    {
     "data": {
      "text/plain": [
       "'input = [toes[0],wlrec[0],nfans[0]]\\npred = neural_network(input,weight)\\nerror = (pred - true) ** 2\\ndelta = pred - true\\nweight_deltas = ele_mul(delta,weights)\\nalpha = 0.01\\nfor i in range(len(weights)):\\n    weights[i] -= alpha * weight_deltas[i]\\n    \\n    '"
      ]
     },
     "execution_count": 74,
     "metadata": {},
     "output_type": "execute_result"
    }
   ],
   "source": [
    "'''input = [toes[0],wlrec[0],nfans[0]]\n",
    "pred = neural_network(input,weight)\n",
    "error = (pred - true) ** 2\n",
    "delta = pred - true\n",
    "weight_deltas = ele_mul(delta,weights)\n",
    "alpha = 0.01\n",
    "for i in range(len(weights)):\n",
    "    weights[i] -= alpha * weight_deltas[i]\n",
    "    \n",
    "    '''"
   ]
  },
  {
   "cell_type": "markdown",
   "id": "48de10c6",
   "metadata": {},
   "source": [
    "### Let's Watch Several Steps of Learning"
   ]
  },
  {
   "cell_type": "code",
   "execution_count": 81,
   "id": "b75600e7",
   "metadata": {},
   "outputs": [],
   "source": [
    "def neural_network(input, weights):\n",
    "    out = 0\n",
    "    for i in range(len(input)):\n",
    "        out += (input[i] * weights[i])\n",
    "    return out \n",
    "\n",
    "def ele_mul(scalar, vector):\n",
    "    out = [0,0,0]\n",
    "    \n",
    "    for i in range(len(out)):\n",
    "        out[i] = vector[i] * scalar\n",
    "    \n",
    "    return out \n",
    "\n",
    "toes = [8.5, 9.5, 9.9, 9.0]\n",
    "wlrec = [0.65, 0.8, 0.8, 0.9]\n",
    "nfans = [1.2, 1.3, 0.5, 1.0]\n",
    "win_or_lose_binary = [1, 1, 0, 1]\n",
    "true = win_or_lose_binary[0]\n",
    "\n",
    "alpha = 0.01 # if alpha were 0.1, predictions will be ridicilious.i just tried that causes it to diverge!\n",
    "weights = [0.1, 0.2, -.1]\n",
    "input = [toes[0], wlrec[0], nfans[0]]"
   ]
  },
  {
   "cell_type": "code",
   "execution_count": 82,
   "id": "6648f21d",
   "metadata": {},
   "outputs": [
    {
     "name": "stdout",
     "output_type": "stream",
     "text": [
      "Iteration:1, Pred:0.8600000000000001, Error:0.01959999999999997, Delta:-0.1399999999999999, Weights:[0.1, 0.2, -0.1], Weight Deltas:[-1.189999999999999, -0.09099999999999994, -0.16799999999999987] \n",
      "\n",
      "Iteration:2, Pred:0.9637574999999999, Error:0.0013135188062500048, Delta:-0.036242500000000066, Weights:[0.1119, 0.20091, -0.09832], Weight Deltas:[-0.30806125000000056, -0.023557625000000044, -0.04349100000000008] \n",
      "\n",
      "Iteration:3, Pred:0.9906177228125002, Error:8.802712522307997e-05, Delta:-0.009382277187499843, Weights:[0.11498061250000001, 0.20114557625, -0.09788509000000001], Weight Deltas:[-0.07974935609374867, -0.006098480171874899, -0.011258732624999811] \n",
      "\n"
     ]
    }
   ],
   "source": [
    "for iter in range(3):\n",
    "    \n",
    "    pred = neural_network(input, weights)\n",
    "    \n",
    "    error = (pred - true) ** 2 \n",
    "    delta = pred - true \n",
    "    weight_deltas = ele_mul(delta, input)\n",
    "    \n",
    "    print(f'Iteration:{iter+1}, Pred:{pred}, Error:{error}, Delta:{delta}, Weights:{weights}, Weight Deltas:{weight_deltas} \\n')\n",
    "    \n",
    "    for i in range(len(weights)):\n",
    "        weights[i] -= alpha*weight_deltas[i]"
   ]
  },
  {
   "cell_type": "code",
   "execution_count": null,
   "id": "a2693927",
   "metadata": {},
   "outputs": [],
   "source": []
  },
  {
   "cell_type": "markdown",
   "id": "d83d5186",
   "metadata": {},
   "source": [
    "## Freezing One Weight - What Does It Do?\n",
    "\n",
    "We're going to train again, except\n",
    "weight a won't ever be adjusted. We'll try to learn the training example using only weights b and\n",
    "c (weights[1] and weights[2])."
   ]
  },
  {
   "cell_type": "code",
   "execution_count": 5,
   "id": "5b4ceffe",
   "metadata": {},
   "outputs": [
    {
     "name": "stdout",
     "output_type": "stream",
     "text": [
      "Iteration:3\n",
      "Pred:0.8600000000000001\n",
      "Error:0.01959999999999997\n",
      "Delta:-0.1399999999999999\n",
      "Weights:[0.1, 0.2, -0.1]\n",
      "Weight_Deltas:\n",
      "[0, -0.09099999999999994, -0.16799999999999987]\n",
      "\n"
     ]
    }
   ],
   "source": [
    "def neural_network(input, weights):\n",
    "    out = 0 \n",
    "    for i in range(len(input)):\n",
    "        out += (input[i] * weights[i])\n",
    "    return out \n",
    "\n",
    "def ele_mul(scalar, vector):\n",
    "    out = [0,0,0]\n",
    "    for i in range(len(out)):\n",
    "        out[i] = vector[i] * scalar\n",
    "    return out \n",
    "\n",
    "toes = [8.5, 9.5, 9.9, 9.0]\n",
    "wlrec = [0.65, 0.8, 0.8, 0.9]\n",
    "nfans = [1.2, 1.3, 0.5, 1.0]\n",
    "\n",
    "win_or_lose_binary = [1, 1, 0, 1]\n",
    "true = win_or_lose_binary[0]\n",
    "\n",
    "alpha = 0.3\n",
    "weights = [0.1, 0.2, -.1]\n",
    "input = [toes[0], wlrec[0], nfans[0]]\n",
    "\n",
    "for iter in range(3):\n",
    "    pred = neural_network(input, weights)\n",
    "    \n",
    "    error = (pred - true) ** 2\n",
    "    delta = pred - true \n",
    "    \n",
    "    weight_deltas = ele_mul(delta, input)\n",
    "    weight_deltas[0] = 0 \n",
    "    \n",
    "print (\"Iteration:\" + str(iter+1))\n",
    "print (\"Pred:\" + str(pred))\n",
    "print (\"Error:\" + str(error))\n",
    "print (\"Delta:\" + str(delta))\n",
    "print (\"Weights:\" + str(weights))\n",
    "print (\"Weight_Deltas:\")\n",
    "print (str(weight_deltas))\n",
    "print()"
   ]
  },
  {
   "cell_type": "code",
   "execution_count": 6,
   "id": "1f16bc62",
   "metadata": {},
   "outputs": [],
   "source": [
    "for i in range(len(weights)):\n",
    "    weights[i] -= alpha * weight_deltas[i]"
   ]
  },
  {
   "cell_type": "code",
   "execution_count": 7,
   "id": "1436827b",
   "metadata": {},
   "outputs": [
    {
     "data": {
      "text/plain": [
       "[0.1, 0.2273, -0.04960000000000005]"
      ]
     },
     "execution_count": 7,
     "metadata": {},
     "output_type": "execute_result"
    }
   ],
   "source": [
    "weights"
   ]
  },
  {
   "cell_type": "markdown",
   "id": "350b15a4",
   "metadata": {},
   "source": [
    "## Gradient Descent Learning with Multiple Outputs\n",
    "\n",
    "Neural Networks can also make multiple predictions using only a single input.\n",
    "\n",
    "Perhaps this one will seem a bit obvious. We calculate each delta in the same way, and then\n",
    "multiply them all by the same, single input. Th is becomes each weight's weight_delta. At\n",
    "this point, I hope it is clear that a rather simple mechanism (Stochastic Gradient Descent) is\n",
    "consistently used to perform learning across a wide variety of architectures."
   ]
  },
  {
   "cell_type": "markdown",
   "id": "4d25f2f2",
   "metadata": {},
   "source": [
    "### An Empty Network With Multiple Outputs"
   ]
  },
  {
   "cell_type": "code",
   "execution_count": 8,
   "id": "94d24b07",
   "metadata": {
    "scrolled": true
   },
   "outputs": [
    {
     "data": {
      "image/png": "[encoded data removed]",
      "text/plain": [
       "<IPython.core.display.Image object>"
      ]
     },
     "execution_count": 8,
     "metadata": {},
     "output_type": "execute_result"
    }
   ],
   "source": [
    "from IPython import display\n",
    "display.Image(\"./neural1.png\")"
   ]
  },
  {
   "cell_type": "code",
   "execution_count": 9,
   "id": "eea159cc",
   "metadata": {},
   "outputs": [],
   "source": [
    "weights = [0.3, 0.2, 0.9]\n",
    "\n",
    "def neural_network(input, weights):\n",
    "    pred = ele_mul(input, weights)\n",
    "    return pred \n",
    "\n",
    "def ele_mul(number, vector):\n",
    "    output = [0,0,0]\n",
    "    \n",
    "    assert(len(output) == len(vector))\n",
    "    \n",
    "    for i in range(len(vector)):\n",
    "        output[i] = number * vector[i] \n",
    "    return output "
   ]
  },
  {
   "cell_type": "markdown",
   "id": "64b1e7a3",
   "metadata": {},
   "source": [
    "### PREDICT: Make a Prediction and Calculate Error and Delta"
   ]
  },
  {
   "cell_type": "code",
   "execution_count": 11,
   "id": "90fc51fe",
   "metadata": {},
   "outputs": [],
   "source": [
    "wlrec = [0.65, 1.0, 1.0, 0.9] # input\n",
    "\n",
    "hurt = [0.1, 0.0, 0.0, 0.9]\n",
    "win =  [  1,   1,   0,   1]\n",
    "sad =  [0.1, 0.0, 0.1, 0.2]\n",
    "\n",
    "input = wlrec[0]\n",
    "true = [hurt[0], win[0], sad[0]]\n",
    "\n",
    "pred = neural_network(input, weights)\n",
    "\n",
    "error = [0, 0, 0]\n",
    "delta = [0, 0, 0]\n",
    "\n",
    "for i in range(len(true)):\n",
    "    error[i] = (pred[i] - true[i]) ** 2\n",
    "    delta[i] = pred[i] - true[i]"
   ]
  },
  {
   "cell_type": "code",
   "execution_count": 12,
   "id": "7326af7d",
   "metadata": {},
   "outputs": [
    {
     "data": {
      "text/plain": [
       "[0.009025, 0.7569, 0.2352250000000001]"
      ]
     },
     "execution_count": 12,
     "metadata": {},
     "output_type": "execute_result"
    }
   ],
   "source": [
    "error"
   ]
  },
  {
   "cell_type": "code",
   "execution_count": 13,
   "id": "ed8c5485",
   "metadata": {},
   "outputs": [
    {
     "data": {
      "text/plain": [
       "[0.095, -0.87, 0.4850000000000001]"
      ]
     },
     "execution_count": 13,
     "metadata": {},
     "output_type": "execute_result"
    }
   ],
   "source": [
    "delta"
   ]
  },
  {
   "cell_type": "markdown",
   "id": "b3b575fa",
   "metadata": {},
   "source": [
    "### COMPARE: Calculating Each \"Weight Delta\" and Putting It on Each Weight"
   ]
  },
  {
   "cell_type": "code",
   "execution_count": 14,
   "id": "aef3c286",
   "metadata": {},
   "outputs": [],
   "source": [
    "weight_deltas = ele_mul(input, weights)"
   ]
  },
  {
   "cell_type": "code",
   "execution_count": 15,
   "id": "03a5e2fa",
   "metadata": {},
   "outputs": [
    {
     "data": {
      "text/plain": [
       "[0.195, 0.13, 0.5850000000000001]"
      ]
     },
     "execution_count": 15,
     "metadata": {},
     "output_type": "execute_result"
    }
   ],
   "source": [
    "weight_deltas"
   ]
  },
  {
   "cell_type": "markdown",
   "id": "63d5f77d",
   "metadata": {},
   "source": [
    "weight_deltas are\n",
    "computed by multiplying the\n",
    "input node value with the\n",
    "output node delta for each\n",
    "weight. In this case, our\n",
    "weight_deltas share the same\n",
    "input node and have unique\n",
    "output node (deltas). Note\n",
    "also that we are able to\n",
    "re-use our ele_mul function."
   ]
  },
  {
   "cell_type": "markdown",
   "id": "4d91b134",
   "metadata": {},
   "source": [
    "### LEARN: Updating the Weights"
   ]
  },
  {
   "cell_type": "code",
   "execution_count": 16,
   "id": "21310b21",
   "metadata": {},
   "outputs": [],
   "source": [
    "alpha = 0.1 \n",
    "\n",
    "for i in range(len(weights)):\n",
    "    weights[i] -= (weight_deltas[i] * alpha)"
   ]
  },
  {
   "cell_type": "code",
   "execution_count": 17,
   "id": "d4821361",
   "metadata": {},
   "outputs": [
    {
     "name": "stdout",
     "output_type": "stream",
     "text": [
      "Weights = [0.28049999999999997, 0.187, 0.8415]\n"
     ]
    }
   ],
   "source": [
    "print(f'Weights = {weights}')"
   ]
  },
  {
   "cell_type": "markdown",
   "id": "5d6f5b73",
   "metadata": {},
   "source": [
    "## Gradient Descent with Multiple Inputs & Outputs (Bu kısıma bir daha bak!!!)\n",
    "\n",
    "Gradient Descent generalizes to arbitrarily large networks."
   ]
  },
  {
   "cell_type": "markdown",
   "id": "5c77fa50",
   "metadata": {},
   "source": [
    "### An Empty Network With Multiple Inputs & Outputs"
   ]
  },
  {
   "cell_type": "markdown",
   "id": "d139da52",
   "metadata": {},
   "source": [
    "<img src=\"./neural2.png\" width=300 height=500 />"
   ]
  },
  {
   "cell_type": "code",
   "execution_count": 21,
   "id": "6a27df4f",
   "metadata": {},
   "outputs": [],
   "source": [
    "\n",
    "weights = [      #toes,win, fans\n",
    "                 [0.1, 0.1, -0.3],  # hurt\n",
    "                 [0.1, 0.2,  0.0],  # win \n",
    "                 [0.0, 1.3,  0.1],  # sad \n",
    "          ]\n",
    "def neural_network(input, weights):\n",
    "    pred = vect_mat_mul(input, weights)\n",
    "    return pred "
   ]
  },
  {
   "cell_type": "markdown",
   "id": "e77c43c9",
   "metadata": {},
   "source": [
    "### PREDICT: Make a Prediction and Calculate Error and Delta"
   ]
  },
  {
   "cell_type": "code",
   "execution_count": 22,
   "id": "b703fc53",
   "metadata": {},
   "outputs": [
    {
     "ename": "NameError",
     "evalue": "name 'vect_mat_mul' is not defined",
     "output_type": "error",
     "traceback": [
      "\u001b[1;31m---------------------------------------------------------------------------\u001b[0m",
      "\u001b[1;31mNameError\u001b[0m                                 Traceback (most recent call last)",
      "\u001b[1;32m<ipython-input-22-100477c8ceef>\u001b[0m in \u001b[0;36m<module>\u001b[1;34m\u001b[0m\n\u001b[0;32m     14\u001b[0m \u001b[0mtrue\u001b[0m \u001b[1;33m=\u001b[0m \u001b[1;33m[\u001b[0m\u001b[0mhurt\u001b[0m\u001b[1;33m[\u001b[0m\u001b[1;36m0\u001b[0m\u001b[1;33m]\u001b[0m\u001b[1;33m,\u001b[0m \u001b[0mwin\u001b[0m\u001b[1;33m[\u001b[0m\u001b[1;36m0\u001b[0m\u001b[1;33m]\u001b[0m\u001b[1;33m,\u001b[0m \u001b[0msad\u001b[0m\u001b[1;33m[\u001b[0m\u001b[1;36m0\u001b[0m\u001b[1;33m]\u001b[0m\u001b[1;33m]\u001b[0m\u001b[1;33m\u001b[0m\u001b[1;33m\u001b[0m\u001b[0m\n\u001b[0;32m     15\u001b[0m \u001b[1;33m\u001b[0m\u001b[0m\n\u001b[1;32m---> 16\u001b[1;33m \u001b[0mpred\u001b[0m \u001b[1;33m=\u001b[0m \u001b[0mneural_network\u001b[0m\u001b[1;33m(\u001b[0m\u001b[0minput\u001b[0m\u001b[1;33m,\u001b[0m \u001b[0mweights\u001b[0m\u001b[1;33m)\u001b[0m\u001b[1;33m\u001b[0m\u001b[1;33m\u001b[0m\u001b[0m\n\u001b[0m\u001b[0;32m     17\u001b[0m \u001b[1;33m\u001b[0m\u001b[0m\n\u001b[0;32m     18\u001b[0m \u001b[0merror\u001b[0m \u001b[1;33m=\u001b[0m \u001b[1;33m[\u001b[0m\u001b[1;36m0\u001b[0m\u001b[1;33m,\u001b[0m\u001b[1;36m0\u001b[0m\u001b[1;33m,\u001b[0m\u001b[1;36m0\u001b[0m\u001b[1;33m]\u001b[0m\u001b[1;33m\u001b[0m\u001b[1;33m\u001b[0m\u001b[0m\n",
      "\u001b[1;32m<ipython-input-21-9e20a6b32515>\u001b[0m in \u001b[0;36mneural_network\u001b[1;34m(input, weights)\u001b[0m\n\u001b[0;32m      5\u001b[0m           ]\n\u001b[0;32m      6\u001b[0m \u001b[1;32mdef\u001b[0m \u001b[0mneural_network\u001b[0m\u001b[1;33m(\u001b[0m\u001b[0minput\u001b[0m\u001b[1;33m,\u001b[0m \u001b[0mweights\u001b[0m\u001b[1;33m)\u001b[0m\u001b[1;33m:\u001b[0m\u001b[1;33m\u001b[0m\u001b[1;33m\u001b[0m\u001b[0m\n\u001b[1;32m----> 7\u001b[1;33m     \u001b[0mpred\u001b[0m \u001b[1;33m=\u001b[0m \u001b[0mvect_mat_mul\u001b[0m\u001b[1;33m(\u001b[0m\u001b[0minput\u001b[0m\u001b[1;33m,\u001b[0m \u001b[0mweights\u001b[0m\u001b[1;33m)\u001b[0m\u001b[1;33m\u001b[0m\u001b[1;33m\u001b[0m\u001b[0m\n\u001b[0m\u001b[0;32m      8\u001b[0m     \u001b[1;32mreturn\u001b[0m \u001b[0mpred\u001b[0m\u001b[1;33m\u001b[0m\u001b[1;33m\u001b[0m\u001b[0m\n",
      "\u001b[1;31mNameError\u001b[0m: name 'vect_mat_mul' is not defined"
     ]
    }
   ],
   "source": [
    "# inputs\n",
    "toes = [8.5, 9.5, 9.9, 9.0]\n",
    "wlrec = [0.65,0.8, 0.8, 0.9]\n",
    "nfans = [1.2, 1.3, 0.5, 1.0]\n",
    "\n",
    "#outputs\n",
    "hurt = [0.1, 0.0, 0.0, 0.1]\n",
    "win = [ 1, 1, 0, 1]\n",
    "sad = [0.1, 0.0, 0.1, 0.2]\n",
    "\n",
    "alpha = 0.1 \n",
    "\n",
    "input = [toes[0], wlrec[0], nfans[0]]\n",
    "true = [hurt[0], win[0], sad[0]]\n",
    "\n",
    "pred = neural_network(input, weights)\n",
    "\n",
    "error = [0,0,0]\n",
    "delta = [0,0,0]\n",
    "\n",
    "for i in range(len(true)):\n",
    "    error[i] = (pred[i] - true[i]) ** 2\n",
    "    delta[i] = pred[i] - true[i]"
   ]
  },
  {
   "cell_type": "markdown",
   "id": "406cc392",
   "metadata": {},
   "source": [
    "### COMPARE: Calculating Each \"Weight Delta\" and Putting It on Each Weight"
   ]
  },
  {
   "cell_type": "code",
   "execution_count": 23,
   "id": "521932b8",
   "metadata": {},
   "outputs": [],
   "source": [
    "def outer_prod(vec_a, vec_b):\n",
    "    out = zeros_matrix(len(a), len(b))\n",
    "    \n",
    "    for i in range(len(a)):\n",
    "        for j in range(len(b)):\n",
    "            out[i][j] = vec_a[i] * vec_b\n",
    "    return out "
   ]
  },
  {
   "cell_type": "code",
   "execution_count": null,
   "id": "18421a19",
   "metadata": {},
   "outputs": [],
   "source": [
    "weight_deltas = outer_prod(input, delta)"
   ]
  },
  {
   "cell_type": "markdown",
   "id": "cd8f65cd",
   "metadata": {},
   "source": [
    "### LEARN: Updating the Weights"
   ]
  },
  {
   "cell_type": "code",
   "execution_count": null,
   "id": "08fa4d96",
   "metadata": {},
   "outputs": [],
   "source": [
    "for i in range(len(weights)):\n",
    "    for j in range(len(weights[0])):\n",
    "        weights[i][j] -= alpha * weight_deltas[i][j]"
   ]
  },
  {
   "cell_type": "markdown",
   "id": "5dc6faa4",
   "metadata": {},
   "source": [
    "## What do these weights learn?\n",
    "\n",
    "Each weight tries to reduce the error, but what do they learn in aggregate?\n",
    "\n",
    "This is the part of the book where we move onto our fi rst real world dataset.\n",
    "As luck would have it, it's one with historical signifi cance!\n",
    "Our new dataset is called the MNIST dataset, which is a dataset comprised of digits\n",
    "that high school students"
   ]
  },
  {
   "cell_type": "markdown",
   "id": "f07f9e74",
   "metadata": {},
   "source": [
    "<img src=\"./neural3.png\" width=200 height=200 />"
   ]
  },
  {
   "cell_type": "markdown",
   "id": "f6100548",
   "metadata": {},
   "source": [
    "This network has 784 inputs\n",
    "(one for each pixel in a 28x28 image) and 10 outputs\n",
    "(one for each possible digit in the image)."
   ]
  },
  {
   "cell_type": "markdown",
   "id": "d564c82e",
   "metadata": {},
   "source": [
    "<img src=\"./neural4.png\" width=200 height=200 />"
   ]
  },
  {
   "cell_type": "markdown",
   "id": "873744be",
   "metadata": {},
   "source": [
    "                                RESULTS\n",
    "\n",
    "1) Each output node has a weight coming from every pixel.\n",
    "\n",
    "2) For example, our \"2?\" node has 784 input weights, each mapping the relationship between a pixel and the number \"2\".\n",
    "\n",
    "3) if the weight is high, it means that the model believes there's a high degree of correlation between that pixel and the number 2.\n",
    "\n",
    "4) If the number is very low (negative), then the network believes there is a very low correlation (perhaps even negative correlation) between that pixel and the number two."
   ]
  },
  {
   "cell_type": "markdown",
   "id": "9882232a",
   "metadata": {},
   "source": [
    "## Visualizing Dot Products (weighted sums)\n",
    "\n",
    "* A dot product is a loose measurement of similarity between two vectors.\n",
    "\n",
    "* What does this mean for our weights and inputs? Well, if our weight vector is similar\n",
    "to our input vector for \"2\", then it's going to output a high score because the two vectors\n",
    "are similar! Inversely, if our weights vector is NOT similar to our input vector for 2, then\n",
    "it's going to output a low score. You can see this in action below! Why is the top score (0.98)\n",
    "higher than the lower one (0.01)?"
   ]
  },
  {
   "cell_type": "markdown",
   "id": "d5057179",
   "metadata": {},
   "source": [
    "<img src=\"./neural5.png\" width=800 height=800 />"
   ]
  }
 ],
 "metadata": {
  "kernelspec": {
   "display_name": "Python 3",
   "language": "python",
   "name": "python3"
  },
  "language_info": {
   "codemirror_mode": {
    "name": "ipython",
    "version": 3
   },
   "file_extension": ".py",
   "mimetype": "text/x-python",
   "name": "python",
   "nbconvert_exporter": "python",
   "pygments_lexer": "ipython3",
   "version": "3.8.8"
  }
 },
 "nbformat": 4,
 "nbformat_minor": 5
}
