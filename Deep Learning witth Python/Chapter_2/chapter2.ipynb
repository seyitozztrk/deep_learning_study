{
  "nbformat": 4,
  "nbformat_minor": 0,
  "metadata": {
    "colab": {
      "name": "chapter2.ipynb",
      "provenance": [],
      "collapsed_sections": [
        "D2gxX6SLdkPe",
        "1_ckcDpJdgJJ",
        "1L1miGUIiVuo",
        "i5O5GqGUiyuU",
        "MUHnChG4jm72",
        "zHp5kMwtkAXq",
        "j1gkiG13k07a",
        "93M4BAfHnJc-",
        "_H-LuHieqmW1",
        "KGwEqSLjuV8r",
        "zO4E6_bWQgSm"
      ]
    },
    "kernelspec": {
      "name": "python3",
      "display_name": "Python 3"
    },
    "language_info": {
      "name": "python"
    }
  },
  "cells": [
    {
      "cell_type": "markdown",
      "metadata": {
        "id": "D2gxX6SLdkPe"
      },
      "source": [
        "# 2.1 A first look at a neural network"
      ]
    },
    {
      "cell_type": "code",
      "metadata": {
        "id": "eP9SquImXSdS"
      },
      "source": [
        "from keras.datasets import mnist\n",
        "import numpy as np \n",
        "from IPython import display"
      ],
      "execution_count": 1,
      "outputs": []
    },
    {
      "cell_type": "code",
      "metadata": {
        "id": "vpxHKYAKXVXb"
      },
      "source": [
        "(train_img, train_lbl), (test_img, test_lbl) = mnist.load_data()"
      ],
      "execution_count": null,
      "outputs": []
    },
    {
      "cell_type": "code",
      "metadata": {
        "colab": {
          "base_uri": "https://localhost:8080/"
        },
        "id": "n0U3NYijXW53",
        "outputId": "561dcf21-17b3-4be8-f9e3-cae314da8b51"
      },
      "source": [
        "train_img.shape"
      ],
      "execution_count": null,
      "outputs": [
        {
          "output_type": "execute_result",
          "data": {
            "text/plain": [
              "(60000, 28, 28)"
            ]
          },
          "metadata": {},
          "execution_count": 52
        }
      ]
    },
    {
      "cell_type": "code",
      "metadata": {
        "colab": {
          "base_uri": "https://localhost:8080/"
        },
        "id": "2n8WQftUXW_1",
        "outputId": "10f872bd-0609-4122-fd1d-2cdf676feeb2"
      },
      "source": [
        "train_lbl.shape"
      ],
      "execution_count": null,
      "outputs": [
        {
          "output_type": "execute_result",
          "data": {
            "text/plain": [
              "(60000,)"
            ]
          },
          "metadata": {},
          "execution_count": 53
        }
      ]
    },
    {
      "cell_type": "code",
      "metadata": {
        "colab": {
          "base_uri": "https://localhost:8080/"
        },
        "id": "zq4T8NJaXXCM",
        "outputId": "cc821990-3dff-4ae3-ffd6-c9c16588d103"
      },
      "source": [
        "test_img.shape"
      ],
      "execution_count": null,
      "outputs": [
        {
          "output_type": "execute_result",
          "data": {
            "text/plain": [
              "(10000, 28, 28)"
            ]
          },
          "metadata": {},
          "execution_count": 54
        }
      ]
    },
    {
      "cell_type": "code",
      "metadata": {
        "colab": {
          "base_uri": "https://localhost:8080/"
        },
        "id": "L040MgiFXXE7",
        "outputId": "92b9eca4-e5c3-468a-a606-7c2000fea772"
      },
      "source": [
        "test_lbl.shape"
      ],
      "execution_count": null,
      "outputs": [
        {
          "output_type": "execute_result",
          "data": {
            "text/plain": [
              "(10000,)"
            ]
          },
          "metadata": {},
          "execution_count": 55
        }
      ]
    },
    {
      "cell_type": "code",
      "metadata": {
        "id": "C_94D_vrXXIE"
      },
      "source": [
        "from keras import models \n",
        "from keras import layers\n",
        "\n",
        "network = models.Sequential()\n",
        "network.add(layers.Dense(512, activation='relu', input_shape=(28 * 28, )))\n",
        "network.add(layers.Dense(10, activation='softmax'))"
      ],
      "execution_count": null,
      "outputs": []
    },
    {
      "cell_type": "markdown",
      "metadata": {
        "id": "LemJC9fgaTuP"
      },
      "source": [
        "* To make the network ready for training, we need to pick three more things, as part\n",
        "of the compilation step:\n",
        "\n",
        "     A loss function—How the network will be able to measure its performance on the training data, and thus how it will be able to steer itself in the right direction.\n",
        "\n",
        "     An optimizer—The mechanism through which the network will update itself based on the data it sees and its loss function.\n",
        "\n",
        "     Metrics to monitor during training and testing—Here, we’ll only care about accuracy (the fraction of the images that were correctly classified)."
      ]
    },
    {
      "cell_type": "code",
      "metadata": {
        "id": "Zn_ylruTYjfY"
      },
      "source": [
        "network.compile(optimizer='rmsprop',\n",
        "                loss='categorical_crossentropy',\n",
        "                metrics=['accuracy'])"
      ],
      "execution_count": null,
      "outputs": []
    },
    {
      "cell_type": "markdown",
      "metadata": {
        "id": "Ynd695lPbEFc"
      },
      "source": [
        "* Before training, we’ll preprocess the data by reshaping it into the shape the network\n",
        "expects and scaling it so that all values are in the [0, 1] interval. Previously, our training\n",
        "images, for instance, were stored in an array of shape (60000, 28, 28) of type\n",
        "uint8 with values in the [0, 255] interval. We transform it into a float32 array of\n",
        "shape (60000, 28 * 28) with values between 0 and 1."
      ]
    },
    {
      "cell_type": "code",
      "metadata": {
        "id": "UuStmS5NYjgy"
      },
      "source": [
        "train_img = train_img.reshape((60000, 28*28))\n",
        "train_img = train_img.astype('float32') / 255\n",
        "\n",
        "test_img = test_img.reshape((10000, 28*28))\n",
        "test_img = test_img.astype('float32') / 255"
      ],
      "execution_count": null,
      "outputs": []
    },
    {
      "cell_type": "markdown",
      "metadata": {
        "id": "aSorBa4EbzBE"
      },
      "source": [
        "* We also need to categorically encode the labels"
      ]
    },
    {
      "cell_type": "code",
      "metadata": {
        "id": "XkF1WccvYjjY"
      },
      "source": [
        "from tensorflow.keras.utils import to_categorical \n",
        "\n",
        "train_lbl = to_categorical(train_lbl)\n",
        "test_lbl = to_categorical(test_lbl)"
      ],
      "execution_count": null,
      "outputs": []
    },
    {
      "cell_type": "markdown",
      "metadata": {
        "id": "dru6PO1CcXvd"
      },
      "source": [
        "* We’re now ready to train the network, which in Keras is done via a call to the network’s\n",
        "fit method—we fit the model to its training data"
      ]
    },
    {
      "cell_type": "code",
      "metadata": {
        "colab": {
          "base_uri": "https://localhost:8080/"
        },
        "id": "NOnBhXVQYjmR",
        "outputId": "b67ce93a-d69c-464d-c8bd-f4c2a2061cea"
      },
      "source": [
        "network.fit(train_img, train_lbl, epochs=5, batch_size=128)"
      ],
      "execution_count": null,
      "outputs": [
        {
          "output_type": "stream",
          "name": "stdout",
          "text": [
            "Epoch 1/5\n",
            "469/469 [==============================] - 5s 10ms/step - loss: 0.2594 - accuracy: 0.9246\n",
            "Epoch 2/5\n",
            "469/469 [==============================] - 5s 10ms/step - loss: 0.1032 - accuracy: 0.9696\n",
            "Epoch 3/5\n",
            "469/469 [==============================] - 5s 10ms/step - loss: 0.0677 - accuracy: 0.9796\n",
            "Epoch 4/5\n",
            "469/469 [==============================] - 5s 10ms/step - loss: 0.0495 - accuracy: 0.9851\n",
            "Epoch 5/5\n",
            "469/469 [==============================] - 5s 10ms/step - loss: 0.0367 - accuracy: 0.9890\n"
          ]
        },
        {
          "output_type": "execute_result",
          "data": {
            "text/plain": [
              "<keras.callbacks.History at 0x7f68041396d0>"
            ]
          },
          "metadata": {},
          "execution_count": 60
        }
      ]
    },
    {
      "cell_type": "markdown",
      "metadata": {
        "id": "zB4Z-G3hcmnC"
      },
      "source": [
        "* Two quantities are displayed during training: \n",
        "    * the loss of the network over the training\n",
        "data, and \n",
        "\n",
        "    * the accuracy of the network over the training data."
      ]
    },
    {
      "cell_type": "markdown",
      "metadata": {
        "id": "YvoX4lFBc7tQ"
      },
      "source": [
        "* Now let’s\n",
        "check that the model performs well on the test set, too:"
      ]
    },
    {
      "cell_type": "code",
      "metadata": {
        "colab": {
          "base_uri": "https://localhost:8080/"
        },
        "id": "PZ3rIJSmYjph",
        "outputId": "fa9197c2-58b1-4919-c24f-653383bea374"
      },
      "source": [
        "test_loss, test_acc = network.evaluate(test_img, test_lbl)\n",
        "print(f'test accuracy : {test_acc}, \\ntest loss: {test_loss}')"
      ],
      "execution_count": null,
      "outputs": [
        {
          "output_type": "stream",
          "name": "stdout",
          "text": [
            "313/313 [==============================] - 1s 2ms/step - loss: 0.0678 - accuracy: 0.9797\n",
            "test accuracy : 0.9797000288963318, \n",
            "test loss: 0.06781697273254395\n"
          ]
        }
      ]
    },
    {
      "cell_type": "code",
      "metadata": {
        "id": "I2vrXL8jYjrL"
      },
      "source": [
        ""
      ],
      "execution_count": null,
      "outputs": []
    },
    {
      "cell_type": "markdown",
      "metadata": {
        "id": "1_ckcDpJdgJJ"
      },
      "source": [
        "# 2.2 Data representations for neural networks\n",
        "\n",
        "* a tensor is a container for data\n",
        "\n",
        "* tensors are a generalization of matrices to an arbitrary number of dimensions\n",
        "(note that in the context of tensors, a dimension is often called an axis)."
      ]
    },
    {
      "cell_type": "markdown",
      "metadata": {
        "id": "1L1miGUIiVuo"
      },
      "source": [
        "## Scalars (0D tensors)\n",
        "\n",
        "* A tensor that contains only one number is called a scalar (or scalar tensor, or 0-dimensional\n",
        "tensor, or 0D tensor)."
      ]
    },
    {
      "cell_type": "code",
      "metadata": {
        "colab": {
          "base_uri": "https://localhost:8080/"
        },
        "id": "D_SmnuVOYjtl",
        "outputId": "312f68b5-1204-4568-f72e-4432003af64f"
      },
      "source": [
        "x = np.array(12)\n",
        "x"
      ],
      "execution_count": null,
      "outputs": [
        {
          "output_type": "execute_result",
          "data": {
            "text/plain": [
              "array(12)"
            ]
          },
          "metadata": {},
          "execution_count": 62
        }
      ]
    },
    {
      "cell_type": "code",
      "metadata": {
        "colab": {
          "base_uri": "https://localhost:8080/"
        },
        "id": "mCeE0zsQYjwK",
        "outputId": "36622e54-842c-4394-b7f8-2133d9ab44b4"
      },
      "source": [
        "x.ndim"
      ],
      "execution_count": null,
      "outputs": [
        {
          "output_type": "execute_result",
          "data": {
            "text/plain": [
              "0"
            ]
          },
          "metadata": {},
          "execution_count": 63
        }
      ]
    },
    {
      "cell_type": "markdown",
      "metadata": {
        "id": "i5O5GqGUiyuU"
      },
      "source": [
        "## Vectors (1D tensors)\n",
        "\n",
        "* An array of numbers is called a vector, or 1D tensor."
      ]
    },
    {
      "cell_type": "code",
      "metadata": {
        "colab": {
          "base_uri": "https://localhost:8080/"
        },
        "id": "1MpxW0xyYkIy",
        "outputId": "fb6a31fb-1bde-467b-f4ef-2558154da964"
      },
      "source": [
        "x = np.array([12, 3, 6, 14])\n",
        "x"
      ],
      "execution_count": null,
      "outputs": [
        {
          "output_type": "execute_result",
          "data": {
            "text/plain": [
              "array([12,  3,  6, 14])"
            ]
          },
          "metadata": {},
          "execution_count": 64
        }
      ]
    },
    {
      "cell_type": "code",
      "metadata": {
        "colab": {
          "base_uri": "https://localhost:8080/"
        },
        "id": "p6TyP-ZiYkKd",
        "outputId": "7010a229-1da9-41c7-d6f6-06dea3bd547f"
      },
      "source": [
        "x.ndim"
      ],
      "execution_count": null,
      "outputs": [
        {
          "output_type": "execute_result",
          "data": {
            "text/plain": [
              "1"
            ]
          },
          "metadata": {},
          "execution_count": 65
        }
      ]
    },
    {
      "cell_type": "markdown",
      "metadata": {
        "id": "RrKuInC2jK07"
      },
      "source": [
        "* This vector has five entries and so is called a 5-dimensional vector. Don’t confuse a 5D\n",
        "vector with a 5D tensor! A 5D vector has only one axis and has five dimensions along its\n",
        "axis, whereas a 5D tensor has five axes"
      ]
    },
    {
      "cell_type": "markdown",
      "metadata": {
        "id": "MUHnChG4jm72"
      },
      "source": [
        "## Matrices (2D tensors)\n",
        "\n",
        "* An array of vectors is a matrix, or 2D tensor. A matrix has two axes (often referred to\n",
        "rows and columns)."
      ]
    },
    {
      "cell_type": "code",
      "metadata": {
        "colab": {
          "base_uri": "https://localhost:8080/"
        },
        "id": "ULWgpe8zYkNC",
        "outputId": "026b22a8-c02e-47c2-d8db-101cd9453100"
      },
      "source": [
        "x = np.array([[1,2,3,4,5],\n",
        "              [6,7,8,9,10],\n",
        "              [11,12,13,14,15]\n",
        "              ]\n",
        "             )\n",
        "x"
      ],
      "execution_count": null,
      "outputs": [
        {
          "output_type": "execute_result",
          "data": {
            "text/plain": [
              "array([[ 1,  2,  3,  4,  5],\n",
              "       [ 6,  7,  8,  9, 10],\n",
              "       [11, 12, 13, 14, 15]])"
            ]
          },
          "metadata": {},
          "execution_count": 66
        }
      ]
    },
    {
      "cell_type": "code",
      "metadata": {
        "colab": {
          "base_uri": "https://localhost:8080/"
        },
        "id": "dcTi0HSkYkPv",
        "outputId": "c81038c3-d95a-4d29-83ef-744f93b1c037"
      },
      "source": [
        "x.ndim"
      ],
      "execution_count": null,
      "outputs": [
        {
          "output_type": "execute_result",
          "data": {
            "text/plain": [
              "2"
            ]
          },
          "metadata": {},
          "execution_count": 67
        }
      ]
    },
    {
      "cell_type": "markdown",
      "metadata": {
        "id": "zHp5kMwtkAXq"
      },
      "source": [
        "## 3D tensors and higher-dimensional tensors"
      ]
    },
    {
      "cell_type": "code",
      "metadata": {
        "colab": {
          "base_uri": "https://localhost:8080/"
        },
        "id": "Vh4li8dvYkSM",
        "outputId": "ec80806e-d041-495b-bb01-3fc9fc09db13"
      },
      "source": [
        "x = np.array(\n",
        "              [\n",
        "                  [ \n",
        "                      [5, 78, 2, 34, 0],\n",
        "                      [6, 79, 3, 35, 1],\n",
        "                      [7, 80, 4, 36, 2]\n",
        "                  ],\n",
        "                    \n",
        "                  [\n",
        "                      [5, 78, 2, 34, 0],\n",
        "                      [6, 79, 3, 35, 1],\n",
        "                      [7, 80, 4, 36, 2]\n",
        "                  ],\n",
        "                    \n",
        "                  [\n",
        "                      [5, 78, 2, 34, 0],\n",
        "                      [6, 79, 3, 35, 1],\n",
        "                      [7, 80, 4, 36, 2]\n",
        "                  ]\n",
        "              ]\n",
        "             )\n",
        "\n",
        "x"
      ],
      "execution_count": null,
      "outputs": [
        {
          "output_type": "execute_result",
          "data": {
            "text/plain": [
              "array([[[ 5, 78,  2, 34,  0],\n",
              "        [ 6, 79,  3, 35,  1],\n",
              "        [ 7, 80,  4, 36,  2]],\n",
              "\n",
              "       [[ 5, 78,  2, 34,  0],\n",
              "        [ 6, 79,  3, 35,  1],\n",
              "        [ 7, 80,  4, 36,  2]],\n",
              "\n",
              "       [[ 5, 78,  2, 34,  0],\n",
              "        [ 6, 79,  3, 35,  1],\n",
              "        [ 7, 80,  4, 36,  2]]])"
            ]
          },
          "metadata": {},
          "execution_count": 68
        }
      ]
    },
    {
      "cell_type": "code",
      "metadata": {
        "colab": {
          "base_uri": "https://localhost:8080/"
        },
        "id": "vavT--kKYkUz",
        "outputId": "cf251326-0e80-4aa8-dfd0-a8ef1926f150"
      },
      "source": [
        "x.ndim"
      ],
      "execution_count": null,
      "outputs": [
        {
          "output_type": "execute_result",
          "data": {
            "text/plain": [
              "3"
            ]
          },
          "metadata": {},
          "execution_count": 69
        }
      ]
    },
    {
      "cell_type": "markdown",
      "metadata": {
        "id": "j1gkiG13k07a"
      },
      "source": [
        "## Key attributes"
      ]
    },
    {
      "cell_type": "markdown",
      "metadata": {
        "id": "ONryBN_vk_Tn"
      },
      "source": [
        "A tensor is defined by three key attributes:\n",
        "\n",
        "   Number of axes (rank)—For instance, a 3D tensor has three axes, and a matrix has\n",
        "two axes. This is also called the tensor’s ndim in Python libraries such as Numpy.\n",
        "\n",
        "   Shape—This is a tuple of integers that describes how many dimensions the tensor\n",
        "has along each axis. For instance, the previous matrix example has shape\n",
        "(3, 5), and the 3D tensor example has shape (3, 3, 5). A vector has a shape\n",
        "with a single element, such as (5,), whereas a scalar has an empty shape, ().\n",
        "\n",
        "   Data type (usually called dtype in Python libraries)—This is the type of the data\n",
        "contained in the tensor; for instance, a tensor’s type could be float32, uint8,\n",
        "float64, and so on. On rare occasions, you may see a char tensor. Note that\n",
        "string tensors don’t exist in Numpy (or in most other libraries), because tensors\n",
        "live in preallocated, contiguous memory segments: and strings, being variable\n",
        "length, would preclude the use of this implementation."
      ]
    },
    {
      "cell_type": "code",
      "metadata": {
        "id": "vGmrCqx5YkXY"
      },
      "source": [
        "from keras.datasets import mnist \n",
        "(train_img, train_lbl), (test_img, test_lbl) = mnist.load_data()"
      ],
      "execution_count": null,
      "outputs": []
    },
    {
      "cell_type": "code",
      "metadata": {
        "colab": {
          "base_uri": "https://localhost:8080/"
        },
        "id": "HAwlMOCwYkaU",
        "outputId": "9dd4d89b-08df-478b-923d-ad5dac58b6a5"
      },
      "source": [
        "print(train_img.ndim)"
      ],
      "execution_count": null,
      "outputs": [
        {
          "output_type": "stream",
          "name": "stdout",
          "text": [
            "3\n"
          ]
        }
      ]
    },
    {
      "cell_type": "code",
      "metadata": {
        "colab": {
          "base_uri": "https://localhost:8080/"
        },
        "id": "OXy63ozeYkcl",
        "outputId": "c08f6dcb-b1c3-4ef4-9920-a0d69b8d0325"
      },
      "source": [
        "print(train_img.shape)"
      ],
      "execution_count": null,
      "outputs": [
        {
          "output_type": "stream",
          "name": "stdout",
          "text": [
            "(60000, 28, 28)\n"
          ]
        }
      ]
    },
    {
      "cell_type": "code",
      "metadata": {
        "colab": {
          "base_uri": "https://localhost:8080/"
        },
        "id": "46Uf_Oc1YkfH",
        "outputId": "f93ac70a-741a-4971-e21a-ed79c00e0736"
      },
      "source": [
        "print(train_img.dtype)"
      ],
      "execution_count": null,
      "outputs": [
        {
          "output_type": "stream",
          "name": "stdout",
          "text": [
            "uint8\n"
          ]
        }
      ]
    },
    {
      "cell_type": "code",
      "metadata": {
        "colab": {
          "base_uri": "https://localhost:8080/"
        },
        "id": "M22bhj-bYkhs",
        "outputId": "c9d2930d-17a4-45f2-cdc8-8997389a2a24"
      },
      "source": [
        "digit = train_img[4]\n",
        "print(digit)"
      ],
      "execution_count": null,
      "outputs": [
        {
          "output_type": "stream",
          "name": "stdout",
          "text": [
            "[[  0   0   0   0   0   0   0   0   0   0   0   0   0   0   0   0   0   0\n",
            "    0   0   0   0   0   0   0   0   0   0]\n",
            " [  0   0   0   0   0   0   0   0   0   0   0   0   0   0   0   0   0   0\n",
            "    0   0   0   0   0   0   0   0   0   0]\n",
            " [  0   0   0   0   0   0   0   0   0   0   0   0   0   0   0   0   0   0\n",
            "    0   0   0   0   0   0   0   0   0   0]\n",
            " [  0   0   0   0   0   0   0   0   0   0   0   0   0   0   0   0   0   0\n",
            "    0   0   0   0   0   0   0   0   0   0]\n",
            " [  0   0   0   0   0   0   0   0   0   0   0   0   0   0   0   0   0   0\n",
            "    0   0   0   0   0   0   0   0   0   0]\n",
            " [  0   0   0   0   0   0   0   0   0   0   0   0   0   0   0   0   0   0\n",
            "    0   0   0   0   0   0   0   0   0   0]\n",
            " [  0   0   0   0   0   0   0   0   0   0   0   0   0   0   0   0   0   0\n",
            "    0   0   0   0   0   0   0   0   0   0]\n",
            " [  0   0   0   0   0   0   0   0   0   0   0   0  55 148 210 253 253 113\n",
            "   87 148  55   0   0   0   0   0   0   0]\n",
            " [  0   0   0   0   0   0   0   0   0   0   0  87 232 252 253 189 210 252\n",
            "  252 253 168   0   0   0   0   0   0   0]\n",
            " [  0   0   0   0   0   0   0   0   0   4  57 242 252 190  65   5  12 182\n",
            "  252 253 116   0   0   0   0   0   0   0]\n",
            " [  0   0   0   0   0   0   0   0   0  96 252 252 183  14   0   0  92 252\n",
            "  252 225  21   0   0   0   0   0   0   0]\n",
            " [  0   0   0   0   0   0   0   0 132 253 252 146  14   0   0   0 215 252\n",
            "  252  79   0   0   0   0   0   0   0   0]\n",
            " [  0   0   0   0   0   0   0 126 253 247 176   9   0   0   8  78 245 253\n",
            "  129   0   0   0   0   0   0   0   0   0]\n",
            " [  0   0   0   0   0   0  16 232 252 176   0   0   0  36 201 252 252 169\n",
            "   11   0   0   0   0   0   0   0   0   0]\n",
            " [  0   0   0   0   0   0  22 252 252  30  22 119 197 241 253 252 251  77\n",
            "    0   0   0   0   0   0   0   0   0   0]\n",
            " [  0   0   0   0   0   0  16 231 252 253 252 252 252 226 227 252 231   0\n",
            "    0   0   0   0   0   0   0   0   0   0]\n",
            " [  0   0   0   0   0   0   0  55 235 253 217 138  42  24 192 252 143   0\n",
            "    0   0   0   0   0   0   0   0   0   0]\n",
            " [  0   0   0   0   0   0   0   0   0   0   0   0   0  62 255 253 109   0\n",
            "    0   0   0   0   0   0   0   0   0   0]\n",
            " [  0   0   0   0   0   0   0   0   0   0   0   0   0  71 253 252  21   0\n",
            "    0   0   0   0   0   0   0   0   0   0]\n",
            " [  0   0   0   0   0   0   0   0   0   0   0   0   0   0 253 252  21   0\n",
            "    0   0   0   0   0   0   0   0   0   0]\n",
            " [  0   0   0   0   0   0   0   0   0   0   0   0   0  71 253 252  21   0\n",
            "    0   0   0   0   0   0   0   0   0   0]\n",
            " [  0   0   0   0   0   0   0   0   0   0   0   0   0 106 253 252  21   0\n",
            "    0   0   0   0   0   0   0   0   0   0]\n",
            " [  0   0   0   0   0   0   0   0   0   0   0   0   0  45 255 253  21   0\n",
            "    0   0   0   0   0   0   0   0   0   0]\n",
            " [  0   0   0   0   0   0   0   0   0   0   0   0   0   0 218 252  56   0\n",
            "    0   0   0   0   0   0   0   0   0   0]\n",
            " [  0   0   0   0   0   0   0   0   0   0   0   0   0   0  96 252 189  42\n",
            "    0   0   0   0   0   0   0   0   0   0]\n",
            " [  0   0   0   0   0   0   0   0   0   0   0   0   0   0  14 184 252 170\n",
            "   11   0   0   0   0   0   0   0   0   0]\n",
            " [  0   0   0   0   0   0   0   0   0   0   0   0   0   0   0  14 147 252\n",
            "   42   0   0   0   0   0   0   0   0   0]\n",
            " [  0   0   0   0   0   0   0   0   0   0   0   0   0   0   0   0   0   0\n",
            "    0   0   0   0   0   0   0   0   0   0]]\n"
          ]
        }
      ]
    },
    {
      "cell_type": "code",
      "metadata": {
        "colab": {
          "base_uri": "https://localhost:8080/"
        },
        "id": "Q2MCu3wMYkke",
        "outputId": "636a70cc-0244-46be-b36b-34ea51ff85bc"
      },
      "source": [
        "print(train_lbl[4])"
      ],
      "execution_count": null,
      "outputs": [
        {
          "output_type": "stream",
          "name": "stdout",
          "text": [
            "9\n"
          ]
        }
      ]
    },
    {
      "cell_type": "code",
      "metadata": {
        "colab": {
          "base_uri": "https://localhost:8080/"
        },
        "id": "jJX1U-FZYknh",
        "outputId": "b1af64d0-a7ef-46e2-d6ad-d534bf847a00"
      },
      "source": [
        "import matplotlib.pyplot as plt\n",
        "plt.imshow(digit, cmap=plt.cm.binary)\n",
        "plt.show()"
      ],
      "execution_count": null,
      "outputs": [
        {
          "output_type": "display_data",
          "data": {
            "image/png": "[encoded data removed]",
            "text/plain": [
              "<Figure size 432x288 with 1 Axes>"
            ]
          },
          "metadata": {
            "needs_background": "light"
          }
        }
      ]
    },
    {
      "cell_type": "markdown",
      "metadata": {
        "id": "93M4BAfHnJc-"
      },
      "source": [
        "## Manipulating tensors in Numpy \n",
        "\n",
        "* Selecting specific elements in a tensor is called tensor slicing."
      ]
    },
    {
      "cell_type": "code",
      "metadata": {
        "colab": {
          "base_uri": "https://localhost:8080/"
        },
        "id": "E2H4pu4IYkpz",
        "outputId": "d2182cd2-7179-4238-b6a5-854bbd2db775"
      },
      "source": [
        "my_slice = train_img[10:100]\n",
        "print(my_slice.shape)"
      ],
      "execution_count": null,
      "outputs": [
        {
          "output_type": "stream",
          "name": "stdout",
          "text": [
            "(90, 28, 28)\n"
          ]
        }
      ]
    },
    {
      "cell_type": "code",
      "metadata": {
        "colab": {
          "base_uri": "https://localhost:8080/"
        },
        "id": "THxKeanaYksk",
        "outputId": "20f039b3-714f-4a65-a306-bc3a0be25dd8"
      },
      "source": [
        "# equivalent to the previous example \n",
        "\n",
        "my_slice_2 = train_img[10:100, :, :]\n",
        "my_slice_2.shape"
      ],
      "execution_count": null,
      "outputs": [
        {
          "output_type": "execute_result",
          "data": {
            "text/plain": [
              "(90, 28, 28)"
            ]
          },
          "metadata": {},
          "execution_count": 78
        }
      ]
    },
    {
      "cell_type": "code",
      "metadata": {
        "colab": {
          "base_uri": "https://localhost:8080/"
        },
        "id": "yUBRxwrUYkvJ",
        "outputId": "bcfad428-55a9-4610-b280-eec2b841bb0f"
      },
      "source": [
        "# also equivalent to other previous two examples :D \n",
        "\n",
        "my_slice_3 = train_img[10:100, 0:28, 0:28]\n",
        "my_slice_3.shape"
      ],
      "execution_count": null,
      "outputs": [
        {
          "output_type": "execute_result",
          "data": {
            "text/plain": [
              "(90, 28, 28)"
            ]
          },
          "metadata": {},
          "execution_count": 79
        }
      ]
    },
    {
      "cell_type": "markdown",
      "metadata": {
        "id": "_Iysz11WoQOb"
      },
      "source": [
        "you may select between any two indices along each tensor axis. For\n",
        "instance, in order to select 14 × 14 pixels in the bottom-right corner of all images, you\n",
        "do this:"
      ]
    },
    {
      "cell_type": "code",
      "metadata": {
        "colab": {
          "base_uri": "https://localhost:8080/"
        },
        "id": "91yUb7WzYkx8",
        "outputId": "db6a314f-182b-4f87-e080-a5cb88e07fc9"
      },
      "source": [
        "my_slice = train_img[:, 14:, 14:]\n",
        "my_slice.shape"
      ],
      "execution_count": null,
      "outputs": [
        {
          "output_type": "execute_result",
          "data": {
            "text/plain": [
              "(60000, 14, 14)"
            ]
          },
          "metadata": {},
          "execution_count": 80
        }
      ]
    },
    {
      "cell_type": "code",
      "metadata": {
        "colab": {
          "base_uri": "https://localhost:8080/"
        },
        "id": "szgEuzqKYk0b",
        "outputId": "98ff6015-bdc1-4726-a77f-1806dbcf3e0c"
      },
      "source": [
        "# it is also possible to use negative indices.\n",
        "\n",
        "my_slice = train_img[:, 7:-7, 7:-7]\n",
        "my_slice.shape"
      ],
      "execution_count": null,
      "outputs": [
        {
          "output_type": "execute_result",
          "data": {
            "text/plain": [
              "(60000, 14, 14)"
            ]
          },
          "metadata": {},
          "execution_count": 81
        }
      ]
    },
    {
      "cell_type": "markdown",
      "metadata": {
        "id": "25Uj6DK0pM7k"
      },
      "source": [
        "## The notion of data batches\n",
        "\n",
        "* Deep-learning models don’t process an entire dataset at once; rather,\n",
        "they break the data into small batches"
      ]
    },
    {
      "cell_type": "code",
      "metadata": {
        "colab": {
          "base_uri": "https://localhost:8080/"
        },
        "id": "1c2AUMSUYk3g",
        "outputId": "df91e4ed-a2c1-4714-d78b-06347056f9bc"
      },
      "source": [
        "# here’s one batch of our MNIST digits, cwith batch size of 128\n",
        "batch = train_img[:128]\n",
        "batch.shape"
      ],
      "execution_count": null,
      "outputs": [
        {
          "output_type": "execute_result",
          "data": {
            "text/plain": [
              "(128, 28, 28)"
            ]
          },
          "metadata": {},
          "execution_count": 82
        }
      ]
    },
    {
      "cell_type": "code",
      "metadata": {
        "colab": {
          "base_uri": "https://localhost:8080/"
        },
        "id": "Kn0sK_Q4Yk51",
        "outputId": "2a1a9de1-d0d0-4ed8-93ed-b283b4bafebd"
      },
      "source": [
        "# here is the next batch \n",
        "batch = train_img[128:256]\n",
        "batch.shape"
      ],
      "execution_count": null,
      "outputs": [
        {
          "output_type": "execute_result",
          "data": {
            "text/plain": [
              "(128, 28, 28)"
            ]
          },
          "metadata": {},
          "execution_count": 83
        }
      ]
    },
    {
      "cell_type": "code",
      "metadata": {
        "id": "6s-WqnanYk8E"
      },
      "source": [
        "# the nth batch\n",
        "# batch = train_img[128*n : 128 * (n+1)]\n"
      ],
      "execution_count": null,
      "outputs": []
    },
    {
      "cell_type": "markdown",
      "metadata": {
        "id": "_H-LuHieqmW1"
      },
      "source": [
        "## Real-world examples of data tensors\n",
        "\n",
        "* Let’s make data tensors more concrete with a few examples similar to what you’ll\n",
        "encounter later. The data you’ll manipulate will almost always fall into one of the following\n",
        "categories:\n",
        "\n",
        "     Vector data—2D tensors of shape (samples, features)\n",
        "\n",
        "     Timeseries data or sequence data—3D tensors of shape (samples, timesteps,features)\n",
        "\n",
        "     Images—4D tensors of shape (samples, height, width, channels) or (samples, channels, height, width)\n",
        "\n",
        "     Video—5D tensors of shape (samples, frames, height, width, channels) or (samples, frames, channels, height, width)"
      ]
    },
    {
      "cell_type": "markdown",
      "metadata": {
        "id": "KGwEqSLjuV8r"
      },
      "source": [
        "# 2.3 The gears of neural networks: tensor operations\n",
        "\n",
        "* Much as any computer program can be ultimately reduced to a small set of binary\n",
        "operations on binary inputs (AND, OR, NOR, and so on), all transformations learned\n",
        "by deep neural networks can be reduced to a handful of tensor operations applied to\n",
        "tensors of numeric data. For instance, it’s possible to add tensors, multiply tensors,\n",
        "and so on."
      ]
    },
    {
      "cell_type": "code",
      "metadata": {
        "id": "xUlqoWwpCfmV"
      },
      "source": [
        "'''\n",
        "+In our initial example, we were building our network by stacking Dense layers on top of each other\n",
        "\n",
        "keras.layers.Dense(512, activation='relu')\n",
        "\n",
        "This layer can be interpreted as a function, which takes as input a 2D tensor and\n",
        "returns another 2D tensor—a new representation for the input tensor. Specifically, the\n",
        "function is as follows (where W is a 2D tensor and b is a vector, both attributes of the\n",
        "layer):\n",
        "\n",
        "output = relu(dot(W, input) + b)\n",
        "'''"
      ],
      "execution_count": null,
      "outputs": []
    },
    {
      "cell_type": "markdown",
      "metadata": {
        "id": "6LTajmIqD0j1"
      },
      "source": [
        "## Element-wise operations\n",
        "\n",
        "The relu operation and addition are element-wise operations: operations that are\n",
        "applied independently to each entry in the tensors being considered\n",
        "\n"
      ]
    },
    {
      "cell_type": "code",
      "metadata": {
        "id": "FTtXHb59Cfo9"
      },
      "source": [
        "def naive_relu(x):\n",
        "  assert len(x.shape) == 2\n",
        "\n",
        "  x = x.copy()  # avoid overwriting the input tensor.\n",
        "\n",
        "  for i in range(x.shape[0]):\n",
        "    for j in range(x.shape[1]):\n",
        "      x[i, j] = max(x[i,j], 0)\n",
        "\n",
        "  return x "
      ],
      "execution_count": null,
      "outputs": []
    },
    {
      "cell_type": "code",
      "metadata": {
        "id": "u0tsMbDqCfrb"
      },
      "source": [
        "def naive_add(x, y):\n",
        "  assert len(x.shape) == 2\n",
        "  assert x.shape == y.shape \n",
        "\n",
        "  x = x.copy()\n",
        "  \n",
        "  for i in range(x.shape[0]):\n",
        "    for j in range(x.shape[1]):\n",
        "      x[i, j] += y[i, j]\n",
        "\n",
        "  return x   "
      ],
      "execution_count": null,
      "outputs": []
    },
    {
      "cell_type": "markdown",
      "metadata": {
        "id": "58ndu93qFJKw"
      },
      "source": [
        "* in Numpy, you can do the following element-wise operation, and it will be blazing\n",
        "fast"
      ]
    },
    {
      "cell_type": "code",
      "metadata": {
        "colab": {
          "base_uri": "https://localhost:8080/",
          "height": 36
        },
        "id": "mKKGyG-3CfuS",
        "outputId": "2366875f-cb31-429b-8c53-e5093132ebad"
      },
      "source": [
        "'''\n",
        "z = x + y  -> element-wise addition \n",
        "z = np.maximum(z, 0.)  -> element-wise relu \n",
        "'''"
      ],
      "execution_count": null,
      "outputs": [
        {
          "output_type": "execute_result",
          "data": {
            "application/vnd.google.colaboratory.intrinsic+json": {
              "type": "string"
            },
            "text/plain": [
              "'\\nz = x + y  -> element-wise addition \\nz = np.maximum(z, 0.)  -> element-wise relu \\n'"
            ]
          },
          "metadata": {},
          "execution_count": 90
        }
      ]
    },
    {
      "cell_type": "markdown",
      "metadata": {
        "id": "Ya-IQxDiFae_"
      },
      "source": [
        "## Broadcasting\n",
        "\n",
        "* When possible, and if there’s no ambiguity, the smaller tensor will be broadcasted to\n",
        "match the shape of the larger tensor. Broadcasting consists of two steps:\n",
        "\n",
        "    1 Axes (called broadcast axes) are added to the smaller tensor to match the ndim of\n",
        "the larger tensor.\n",
        "\n",
        "    2 The smaller tensor is repeated alongside these new axes to match the full shape\n",
        "of the larger tensor."
      ]
    },
    {
      "cell_type": "markdown",
      "metadata": {
        "id": "KlJZfOV7GC7f"
      },
      "source": [
        "Let’s look at a concrete example. Consider X with shape (32, 10) and y with shape (10,). \n",
        "\n",
        "    1) First, we add an empty first axis to y, whose shape becomes (1, 10). \n",
        "    \n",
        "    2) Then, we repeat y 32 times alongside this new axis, so that we end up with a tensor Y with shape (32, 10), where Y[i, :] == y for i in range(0, 32). \n",
        "    \n",
        "    3) At this point, we can proceed to add X and Y, because they have the same shape."
      ]
    },
    {
      "cell_type": "code",
      "metadata": {
        "id": "Ug3R2W4iCfwt"
      },
      "source": [
        "def naive_add_matrix_and_vector(x, y):\n",
        "  assert len(x.shape) == 2  # x is a 2D Numpy tensor.\n",
        "  assert len(y.shape) == 1  # y is a Numpy vector.\n",
        "  assert x.shape[1] == y.input_shape[0]\n",
        "\n",
        "  x = x.copy()\n",
        "\n",
        "  for i in range(x.shape[0]):\n",
        "    for j in range(x.shape[1]):\n",
        "      x[i, j] += y[j]\n",
        "\n",
        "  return x "
      ],
      "execution_count": null,
      "outputs": []
    },
    {
      "cell_type": "code",
      "metadata": {
        "id": "EVaaIRatCfzP"
      },
      "source": [
        "# The following example applies the element-wise maximum operation \n",
        "# to two tensors of different shapes via broadcasting:\n",
        "\n",
        "x = np.random.random((64, 3, 32, 10))\n",
        "y = np.random.random((32, 10))\n",
        "\n",
        "z = np.maximum(x,y)"
      ],
      "execution_count": null,
      "outputs": []
    },
    {
      "cell_type": "code",
      "metadata": {
        "colab": {
          "base_uri": "https://localhost:8080/"
        },
        "id": "uc2gEj8mCf1p",
        "outputId": "2f867812-a576-4e1d-bc36-e235242623be"
      },
      "source": [
        "z.shape"
      ],
      "execution_count": null,
      "outputs": [
        {
          "output_type": "execute_result",
          "data": {
            "text/plain": [
              "(64, 3, 32, 10)"
            ]
          },
          "metadata": {},
          "execution_count": 94
        }
      ]
    },
    {
      "cell_type": "markdown",
      "metadata": {
        "id": "pOusOLb5Hnsx"
      },
      "source": [
        "## Tensor dot\n",
        "\n",
        "* The dot operation, also called a tensor product (not to be confused with an elementwise\n",
        "product) is the most common, most useful tensor operation. Contrary to\n",
        "element-wise operations, it combines entries in the input tensors. (*) -> dot product"
      ]
    },
    {
      "cell_type": "code",
      "metadata": {
        "id": "Qd0AHu_9Cf4O"
      },
      "source": [
        "# z = np.dot(x, y)"
      ],
      "execution_count": null,
      "outputs": []
    },
    {
      "cell_type": "markdown",
      "metadata": {
        "id": "GEdvpojoID_p"
      },
      "source": [
        "Mathematically, what does the dot operation do? Let’s start with the dot product of\n",
        "two vectors x and y. It’s computed as follows:"
      ]
    },
    {
      "cell_type": "code",
      "metadata": {
        "id": "LAKZUM0GCf6-"
      },
      "source": [
        "def naive_vector_dot(x, y):\n",
        "  # x and y are Numpy vectors.\n",
        "  assert len(x.shape) == 1\n",
        "  assert len(y.shape) == 1\n",
        "  assert x.shape[0] == y.shape[0]\n",
        "\n",
        "  z = 0\n",
        "  \n",
        "  for i in range(x.shape[0]):\n",
        "    z += x[i] * y[i]\n",
        "\n",
        "  return z "
      ],
      "execution_count": null,
      "outputs": []
    },
    {
      "cell_type": "markdown",
      "metadata": {
        "id": "avPm-TOdIxaj"
      },
      "source": [
        "You’ll have noticed that the dot product between two vectors is a scalar and that only\n",
        "vectors with the same number of elements are compatible for a dot product.\n",
        "\n",
        "\n",
        "You can also take the dot product between a matrix x and a vector y, which returns\n",
        "a vector where the coefficients are the dot products between y and the rows of x. You\n",
        "implement it as follows:\n",
        "import numpy"
      ]
    },
    {
      "cell_type": "code",
      "metadata": {
        "id": "wi21rw1ICf9f"
      },
      "source": [
        "def naive_matrix_vector_dot(x, y):\n",
        "  assert len(x.shape) == 2 # x is numpy matrix.\n",
        "  assert len(y.shape) == 1 # y is numpy vector.\n",
        "  assert x.shape[1] == y.shape[0] # the first dimension of x must be the same \n",
        "                                  # as the 0th dimension of y!\n",
        "  z = np.zeros(x.shape[0]) # returns a vector of 0s with same shape as y. \n",
        "\n",
        "  for i in range(x.shape[0]):\n",
        "    for j in range(x.shape[1]):\n",
        "      z[i] += x[i, j] * y[j]\n",
        "  \n",
        "  return z "
      ],
      "execution_count": null,
      "outputs": []
    },
    {
      "cell_type": "code",
      "metadata": {
        "id": "CYYe_GalCgAc"
      },
      "source": [
        "'''\n",
        "You could also reuse the code we wrote previously, which highlights \n",
        "the relationship between a matrix-vector product and a vector product:\n",
        "'''\n",
        "\n",
        "def naive_matrix_vector_dot_2(x, y):\n",
        "  z = np.zeros(x.shape[0])\n",
        "  for i in range(x.shape[0]):\n",
        "    z[i] = naive_vector_dot(x[i, :], y)\n",
        "\n",
        "  return z "
      ],
      "execution_count": null,
      "outputs": []
    },
    {
      "cell_type": "markdown",
      "metadata": {
        "id": "wBeEshyZK2Ea"
      },
      "source": [
        "* The result is a matrix with shape (x.shape[0],\n",
        "y.shape[1]), where the coefficients are the vector products between the rows of x\n",
        "and the columns of y. Here’s the naive implementation:"
      ]
    },
    {
      "cell_type": "code",
      "metadata": {
        "id": "UBBaqYa4CgDV"
      },
      "source": [
        "def naive_matrix_dot(x, y):\n",
        "  assert len(x.shape) == 2\n",
        "  assert len(y.shape) == 2\n",
        "  assert x.shape[1] == y.shape[0]\n",
        "\n",
        "  z = np.zeros((x.shape[0], y.shape[1]))\n",
        "\n",
        "  for i in range(x.shape[0]):\n",
        "    for j in range(y.shape[1]):\n",
        "      row_x = x[i, :]\n",
        "      column_y = y[:, j]\n",
        "      z[i, j] = naive_vector_dot(row_x, column_y)\n",
        "  \n",
        "  return z "
      ],
      "execution_count": null,
      "outputs": []
    },
    {
      "cell_type": "markdown",
      "metadata": {
        "id": "TXW0Bq5vMV96"
      },
      "source": [
        "To understand dot-product shape compatibility, it helps to visualize the input and output\n",
        "tensors by aligning them as shown in figure 2.5."
      ]
    },
    {
      "cell_type": "code",
      "metadata": {
        "colab": {
          "base_uri": "https://localhost:8080/",
          "height": 632
        },
        "id": "7lMFcSi9CgGS",
        "outputId": "0c440f5a-36b9-4c89-f315-770edde502b0"
      },
      "source": [
        "display.Image(\"./pic1.PNG\")"
      ],
      "execution_count": null,
      "outputs": [
        {
          "output_type": "execute_result",
          "data": {
            "image/png": "[encoded data removed]",
            "text/plain": [
              "<IPython.core.display.Image object>"
            ]
          },
          "metadata": {},
          "execution_count": 102
        }
      ]
    },
    {
      "cell_type": "markdown",
      "metadata": {
        "id": "ON1v8IbDMymZ"
      },
      "source": [
        "## Tensor reshaping\n",
        "\n",
        "* A third type of tensor operation that’s essential to understand is tensor reshaping.\n",
        "Although it wasn’t used in the Dense layers in our first neural network example, we\n",
        "used it when we preprocessed the digits data before feeding it into our network:"
      ]
    },
    {
      "cell_type": "code",
      "metadata": {
        "id": "jBxehY-VCgJS"
      },
      "source": [
        "train_images = train_images.reshape((60000, 28 * 28))"
      ],
      "execution_count": null,
      "outputs": []
    },
    {
      "cell_type": "markdown",
      "metadata": {
        "id": "TTImI6ouNKHN"
      },
      "source": [
        "* Reshaping a tensor means rearranging its rows and columns to match a target shape.\n",
        "Naturally, the reshaped tensor has the same total number of coefficients as the initial\n",
        "tensor."
      ]
    },
    {
      "cell_type": "code",
      "metadata": {
        "colab": {
          "base_uri": "https://localhost:8080/"
        },
        "id": "d0P0r3yPCgMQ",
        "outputId": "40843305-a1c5-400f-c39d-a1126ef3ee41"
      },
      "source": [
        "x = np.array(\n",
        "                [ \n",
        "                  [0,1],\n",
        "                  [2,3],\n",
        "                  [4,5]\n",
        "                ]\n",
        "             )\n",
        "\n",
        "print(x.shape)"
      ],
      "execution_count": null,
      "outputs": [
        {
          "output_type": "stream",
          "name": "stdout",
          "text": [
            "(3, 2)\n"
          ]
        }
      ]
    },
    {
      "cell_type": "code",
      "metadata": {
        "colab": {
          "base_uri": "https://localhost:8080/"
        },
        "id": "N4tKjiuRCgPA",
        "outputId": "0e5fc2c2-2ab2-47fe-c36b-875e1c2c9384"
      },
      "source": [
        "x"
      ],
      "execution_count": null,
      "outputs": [
        {
          "output_type": "execute_result",
          "data": {
            "text/plain": [
              "array([[0, 1],\n",
              "       [2, 3],\n",
              "       [4, 5]])"
            ]
          },
          "metadata": {},
          "execution_count": 110
        }
      ]
    },
    {
      "cell_type": "code",
      "metadata": {
        "colab": {
          "base_uri": "https://localhost:8080/"
        },
        "id": "htpwkGrcCgR3",
        "outputId": "939a3b22-e8e9-4fc1-bf45-890e21ba15c2"
      },
      "source": [
        "# reshaping \n",
        "\n",
        "x_1 = x.reshape((6,1))\n",
        "x_1"
      ],
      "execution_count": null,
      "outputs": [
        {
          "output_type": "execute_result",
          "data": {
            "text/plain": [
              "array([[0],\n",
              "       [1],\n",
              "       [2],\n",
              "       [3],\n",
              "       [4],\n",
              "       [5]])"
            ]
          },
          "metadata": {},
          "execution_count": 111
        }
      ]
    },
    {
      "cell_type": "code",
      "metadata": {
        "colab": {
          "base_uri": "https://localhost:8080/"
        },
        "id": "tLWKYZz9CgUf",
        "outputId": "3125d8d2-be9e-4af4-a8e0-051a45ef5ceb"
      },
      "source": [
        "# sayının yazılı olduğu yer kesin bilgi olarak belirtiyoruz, \n",
        "# kalan boyutu diğer bölgeye aktarıyoruz..\n",
        "x_2 = x.reshape((-1,3))\n",
        "x_2"
      ],
      "execution_count": null,
      "outputs": [
        {
          "output_type": "execute_result",
          "data": {
            "text/plain": [
              "array([[0, 1, 2],\n",
              "       [3, 4, 5]])"
            ]
          },
          "metadata": {},
          "execution_count": 115
        }
      ]
    },
    {
      "cell_type": "code",
      "metadata": {
        "colab": {
          "base_uri": "https://localhost:8080/"
        },
        "id": "7S-l-nBlCgXT",
        "outputId": "eb787629-ccf7-443e-eef8-9efdb5dcdb7b"
      },
      "source": [
        "x_3 = x.reshape((2, 3))\n",
        "x_3"
      ],
      "execution_count": null,
      "outputs": [
        {
          "output_type": "execute_result",
          "data": {
            "text/plain": [
              "array([[0, 1, 2],\n",
              "       [3, 4, 5]])"
            ]
          },
          "metadata": {},
          "execution_count": 116
        }
      ]
    },
    {
      "cell_type": "markdown",
      "metadata": {
        "id": "h3OoZw4kODzP"
      },
      "source": [
        "* A special case of reshaping that’s commonly encountered is transposition. Transposing a\n",
        "matrix means exchanging its rows and its columns, so that x[i, :] becomes x[:, i]:"
      ]
    },
    {
      "cell_type": "code",
      "metadata": {
        "colab": {
          "base_uri": "https://localhost:8080/"
        },
        "id": "bkviDcY0CgZr",
        "outputId": "85b7064b-d1d2-47e9-805d-1af1d0b406ce"
      },
      "source": [
        "x = np.zeros((300, 20))\n",
        "print(f'first shape of x : {x.shape}')\n",
        "\n",
        "x = np.transpose(x)\n",
        "print(f'after shape of x : {x.shape}')"
      ],
      "execution_count": null,
      "outputs": [
        {
          "output_type": "stream",
          "name": "stdout",
          "text": [
            "first shape of x : (300, 20)\n",
            "after shape of x : (20, 300)\n"
          ]
        }
      ]
    },
    {
      "cell_type": "markdown",
      "metadata": {
        "id": "vzSFLBiHOZk3"
      },
      "source": [
        "## Geometric interpretation of tensor operations"
      ]
    },
    {
      "cell_type": "markdown",
      "metadata": {
        "id": "4f94hW_KPAZW"
      },
      "source": [
        "## A geometric interpretation of deep learning \n",
        "\n",
        "* You just learned that neural networks consist entirely of chains of tensor operations and\n",
        "that all of these tensor operations are just geometric transformations of the input data."
      ]
    },
    {
      "cell_type": "markdown",
      "metadata": {
        "id": "zO4E6_bWQgSm"
      },
      "source": [
        "# 2.4 The engine of neural networks:gradient-based optimization\n",
        "\n",
        "\n",
        "* Let’s\n",
        "say the initial value of the coefficient is 0.3. After the forward pass on a batch of data, the loss of the network on the batch is 0.5. If you change the coefficient’s value to 0.35 and rerun the forward pass, the loss increases to 0.6. But if you lower the coefficient to 0.25, the loss falls to 0.4. In this case, it seems that updating the coefficient by -0.05\n",
        "\n",
        "* to take advantage of the fact that all operations used in the network\n",
        "are differentiable, and compute the gradient of the loss with regard to the network’s\n",
        "coefficients."
      ]
    },
    {
      "cell_type": "markdown",
      "metadata": {
        "id": "6jo5gecfVz5t"
      },
      "source": [
        "## What’s a derivative?"
      ]
    },
    {
      "cell_type": "markdown",
      "metadata": {
        "id": "RDbPXY77YGJj"
      },
      "source": [
        "### Stochastic gradient descent\n",
        "\n",
        "* Given a differentiable function, it’s theoretically possible to find its minimum analytically:\n",
        "it’s known that a function’s minimum is a point where the derivative is 0, so all\n",
        "you have to do is find all the points where the derivative goes to 0 and check for which\n",
        "of these points the function has the lowest value.\n",
        "\n",
        "* Applied to a neural network, that means finding analytically the combination of\n",
        "weight values that yields the smallest possible loss function. This can be done by solving\n",
        "the equation gradient(f)(W) = 0 for W. This is a polynomial equation of N variables,\n",
        "where N is the number of coefficients in the network. Although it would be\n",
        "possible to solve such an equation for N = 2 or N = 3, doing so is intractable for real\n",
        "neural networks, where the number of parameters is never less than a few thousand\n",
        "and can often be several tens of millions.\n",
        "\n",
        "* Instead, you can use the four-step algorithm outlined at the beginning of this section:\n",
        "modify the parameters little by little based on the current loss value on a random\n",
        "batch of data. Because you’re dealing with a differentiable function, you can\n",
        "compute its gradient, which gives you an efficient way to implement step 4. If you\n",
        "update the weights in the opposite direction from the gradient, the loss will be a little\n",
        "less every time:"
      ]
    },
    {
      "cell_type": "markdown",
      "metadata": {
        "id": "IFC1Ip_0ZQZu"
      },
      "source": [
        "  1 Draw a batch of training samples x and corresponding targets y.\n",
        "\n",
        "  2 Run the network on x to obtain predictions y_pred.\n",
        "\n",
        "  3 Compute the loss of the network on the batch, a measure of the mismatch\n",
        "  between y_pred and y.\n",
        "\n",
        "  4 Compute the gradient of the loss with regard to the network’s parameters (a backward pass).\n",
        "\n",
        "  5 Move the parameters a little in the opposite direction from the gradient—for example W -= step * gradient—thus reducing the loss on the batch a bit."
      ]
    },
    {
      "cell_type": "markdown",
      "metadata": {
        "id": "QXTyvWYvZsty"
      },
      "source": [
        "Easy enough! What I just described is called mini-batch stochastic gradient descent (minibatch\n",
        "SGD). The term stochastic refers to the fact that each batch of data is drawn at\n",
        "random (stochastic is a scientific synonym of random). Figure 2.11 illustrates what happens\n",
        "in 1D, when the network has only one parameter and you have only one training\n",
        "sample."
      ]
    },
    {
      "cell_type": "code",
      "metadata": {
        "id": "MynV-4ItCgcb",
        "colab": {
          "base_uri": "https://localhost:8080/",
          "height": 834
        },
        "outputId": "19d4e5a8-6759-462f-cc7b-a92d52fb4c4b"
      },
      "source": [
        "display.Image(\"./pic2.PNG\")"
      ],
      "execution_count": 2,
      "outputs": [
        {
          "output_type": "execute_result",
          "data": {
            "image/png": "[encoded data removed]",
            "text/plain": [
              "<IPython.core.display.Image object>"
            ]
          },
          "metadata": {},
          "execution_count": 2
        }
      ]
    },
    {
      "cell_type": "markdown",
      "metadata": {
        "id": "WNlJOKlNaM6A"
      },
      "source": [
        "* As you can see, intuitively it’s important to pick a reasonable value for the\n",
        "factor.\n",
        "step\n",
        "If it’s too small, the descent down the curve will take many iterations, and it could get\n",
        "stuck in a local minimum. If\n",
        "is too large, your updates may end up taking you to\n",
        "step\n",
        "completely random locations on the curve."
      ]
    },
    {
      "cell_type": "markdown",
      "metadata": {
        "id": "tTpKLcotb8Ys"
      },
      "source": [
        "## Momentum things...\n",
        "\n",
        "* Additionally, there exist multiple variants of SGD that differ by taking into account\n",
        "previous weight updates when computing the next weight update, rather than just\n",
        "looking at the current value of the gradients. There is, for instance, SGD with momentum,\n",
        "as well as Adagrad, RMSProp, and several others. Such variants are known as optimization\n",
        "methods or optimizers. In particular, the concept of momentum, which is used in\n",
        "many of these variants, deserves your attention. Momentum addresses two issues with\n",
        "SGD: convergence speed and local minima."
      ]
    },
    {
      "cell_type": "code",
      "metadata": {
        "id": "sYwQP2f5aMqa"
      },
      "source": [
        "past_velocity = 0 \n",
        "momentum = 0.1 #constant momentum factor\n",
        "while loss > 0.01:  #optimization loop\n",
        "  w, loss, gradient = get_current_parameters()\n",
        "  velocity = past_velocity * momentum + learning_rate * gradient\n",
        "  w = w + momentum*velocity - learning_rate*gradient\n",
        "  past_velocity = velocity \n",
        "  update_parameters(w)\n"
      ],
      "execution_count": null,
      "outputs": []
    },
    {
      "cell_type": "markdown",
      "metadata": {
        "id": "e7_UASZrcqVG"
      },
      "source": [
        "## Chaining derivatives: the Backpropagation algorithm\n",
        "\n",
        "* a neural network function\n",
        "consists of many tensor operations chained together, each of which has a simple,\n",
        "known derivative. For instance, this is a network f composed of three tensor operations, a, b, and c, with weight matrices W1, W2, and W3\n",
        "\n",
        "      f(W1, W2, W3) = a(W1, b(W2, c(W3)))\n",
        "\n",
        "\n",
        "* Calculus tells us that such a chain of functions can be derived using the following identity,\n",
        "called the chain rule: f(g(x)) = f'(g(x)) * g'(x). Applying the chain rule to the\n",
        "computation of the gradient values of a neural network gives rise to an algorithm called Backpropagation (also sometimes called reverse-mode differentiation). Backpropagation\n",
        "starts with the final loss value and works backward from the top layers to the bottom\n",
        "layers, applying the chain rule to compute the contribution that each parameter\n",
        "had in the loss value."
      ]
    },
    {
      "cell_type": "markdown",
      "metadata": {
        "id": "sZT_i2y1dhRT"
      },
      "source": [
        "# 2.5 Looking back at our first example\n",
        "\n",
        "* Let’s go back to\n",
        "the first example and review each piece of it in the light of what you’ve learned in the\n",
        "previous three sections."
      ]
    },
    {
      "cell_type": "code",
      "metadata": {
        "id": "i8skYCeRdhGI"
      },
      "source": [
        "(train_img, train_lbl), (test_img, test_lbl) = mnist.load_data()"
      ],
      "execution_count": 12,
      "outputs": []
    },
    {
      "cell_type": "code",
      "metadata": {
        "id": "aj6LUHrgdju2"
      },
      "source": [
        "train_img = train_img.reshape((60000, 28*28))\n",
        "train_img = train_img.astype('float32') / 255 \n",
        "\n",
        "test_img = test_img.reshape((10000, 28*28))\n",
        "test_img = test_img.astype('float32') / 255"
      ],
      "execution_count": 13,
      "outputs": []
    },
    {
      "cell_type": "code",
      "metadata": {
        "id": "dT3nonHYdjxs"
      },
      "source": [
        "from keras import models \n",
        "from keras import layers\n",
        "\n",
        "network = models.Sequential()\n",
        "network.add(layers.Dense(512, activation='relu', input_shape=(28*28,)))\n",
        "network.add(layers.Dense(10, activation='softmax'))"
      ],
      "execution_count": 14,
      "outputs": []
    },
    {
      "cell_type": "code",
      "metadata": {
        "id": "7kZjZHVpdj1R"
      },
      "source": [
        "network.compile(optimizer='rmsprop',\n",
        "                loss='categorical_crossentropy',\n",
        "                metrics=['accuracy'])"
      ],
      "execution_count": 15,
      "outputs": []
    },
    {
      "cell_type": "markdown",
      "metadata": {
        "id": "R_4tt6nwfFwf"
      },
      "source": [
        "* categorical_crossentropy is the loss function that’s used\n",
        "as a feedback signal for learning the weight tensors, and which the training phase will\n",
        "attempt to minimize. You also know that this reduction of the loss happens via minibatch\n",
        "stochastic gradient descent. The exact rules governing a specific use of gradient\n",
        "descent are defined by the rmsprop optimizer passed as the first argument."
      ]
    },
    {
      "cell_type": "code",
      "metadata": {
        "id": "qJsYbMBtfYwC"
      },
      "source": [
        "from tensorflow.keras.utils import to_categorical \n",
        "\n",
        "train_lbl = to_categorical(train_lbl)\n",
        "test_lbl = to_categorical(test_lbl)"
      ],
      "execution_count": 16,
      "outputs": []
    },
    {
      "cell_type": "code",
      "metadata": {
        "colab": {
          "base_uri": "https://localhost:8080/"
        },
        "id": "8OyKPIy0dj3d",
        "outputId": "ddcc8800-3e9b-49f7-a9e3-81b266338045"
      },
      "source": [
        "network.fit(train_img, train_lbl, epochs=5, batch_size=128)"
      ],
      "execution_count": 17,
      "outputs": [
        {
          "output_type": "stream",
          "name": "stdout",
          "text": [
            "Epoch 1/5\n",
            "469/469 [==============================] - 5s 9ms/step - loss: 0.2535 - accuracy: 0.9274\n",
            "Epoch 2/5\n",
            "469/469 [==============================] - 4s 9ms/step - loss: 0.1033 - accuracy: 0.9688\n",
            "Epoch 3/5\n",
            "469/469 [==============================] - 4s 9ms/step - loss: 0.0682 - accuracy: 0.9791\n",
            "Epoch 4/5\n",
            "469/469 [==============================] - 4s 9ms/step - loss: 0.0496 - accuracy: 0.9848\n",
            "Epoch 5/5\n",
            "469/469 [==============================] - 4s 9ms/step - loss: 0.0371 - accuracy: 0.9886\n"
          ]
        },
        {
          "output_type": "execute_result",
          "data": {
            "text/plain": [
              "<keras.callbacks.History at 0x7f236ec21a50>"
            ]
          },
          "metadata": {},
          "execution_count": 17
        }
      ]
    },
    {
      "cell_type": "markdown",
      "metadata": {
        "id": "db0gc0Dpfvvo"
      },
      "source": [
        "* When you call fit: the network will start to iterate\n",
        "on the training data in mini-batches of 128 samples, 5 times over (each iteration over\n",
        "all the training data is called an epoch). At each iteration, the network will compute the\n",
        "gradients of the weights with regard to the loss on the batch, and update the weights accordingly. After these 5 epochs, the network will have performed 2,345 gradient\n",
        "updates (469 per epoch), and the loss of the network will be sufficiently low that the\n",
        "network will be capable of classifying handwritten digits with high accuracy."
      ]
    },
    {
      "cell_type": "markdown",
      "metadata": {
        "id": "GQOP1P4hgKWw"
      },
      "source": [
        "Chapter summary\n",
        "\n",
        "   Learning means finding a combination of model parameters that minimizes a loss function for a given set of training data samples and their corresponding targets.\n",
        "  \n",
        "   Learning happens by drawing random batches of data samples and their\n",
        "  targets, and computing the gradient of the network parameters with\n",
        "  respect to the loss on the batch. The network parameters are then moved\n",
        "  a bit (the magnitude of the move is defined by the learning rate) in the\n",
        "  opposite direction from the gradient.\n",
        "  \n",
        "   The entire learning process is made possible by the fact that neural networks are chains of differentiable tensor operations, and thus it’s possible\n",
        "  to apply the chain rule of derivation to find the gradient function mapping\n",
        "  the current parameters and current batch of data to a gradient value.\n",
        "  \n",
        "   Two key concepts you’ll see frequently in future chapters are loss and optimizers.These are the two things you need to define before you begin feeding data into a network.\n",
        "  \n",
        "   The loss is the quantity you’ll attempt to minimize during training, so it\n",
        "  should represent a measure of success for the task you’re trying to solve.\n",
        "  \n",
        "   The optimizer specifies the exact way in which the gradient of the loss will\n",
        "  be used to update parameters: for instance, it could be the RMSProp optimizer,\n",
        "  SGD with momentum, and so on.\n"
      ]
    },
    {
      "cell_type": "code",
      "metadata": {
        "id": "Su9jFu-odj6L"
      },
      "source": [
        ""
      ],
      "execution_count": 17,
      "outputs": []
    },
    {
      "cell_type": "code",
      "metadata": {
        "id": "EcpD8bxodj9L"
      },
      "source": [
        ""
      ],
      "execution_count": null,
      "outputs": []
    },
    {
      "cell_type": "code",
      "metadata": {
        "id": "uzWEM0D5dj_6"
      },
      "source": [
        ""
      ],
      "execution_count": null,
      "outputs": []
    },
    {
      "cell_type": "code",
      "metadata": {
        "id": "UPyOh-dmdkCq"
      },
      "source": [
        ""
      ],
      "execution_count": null,
      "outputs": []
    },
    {
      "cell_type": "code",
      "metadata": {
        "id": "XQTw0mVvdkFt"
      },
      "source": [
        ""
      ],
      "execution_count": null,
      "outputs": []
    },
    {
      "cell_type": "code",
      "metadata": {
        "id": "OL_0BNvQdkIe"
      },
      "source": [
        ""
      ],
      "execution_count": null,
      "outputs": []
    },
    {
      "cell_type": "code",
      "metadata": {
        "id": "eM-crRY5dkLR"
      },
      "source": [
        ""
      ],
      "execution_count": null,
      "outputs": []
    },
    {
      "cell_type": "code",
      "metadata": {
        "id": "aUTFC_-ndkOY"
      },
      "source": [
        ""
      ],
      "execution_count": null,
      "outputs": []
    },
    {
      "cell_type": "code",
      "metadata": {
        "id": "fuktRaEtdkQ9"
      },
      "source": [
        ""
      ],
      "execution_count": null,
      "outputs": []
    },
    {
      "cell_type": "code",
      "metadata": {
        "id": "OWatJMMWdkTs"
      },
      "source": [
        ""
      ],
      "execution_count": null,
      "outputs": []
    },
    {
      "cell_type": "code",
      "metadata": {
        "id": "EoTL4WL-dkW9"
      },
      "source": [
        ""
      ],
      "execution_count": null,
      "outputs": []
    },
    {
      "cell_type": "code",
      "metadata": {
        "id": "ecg_1TYSdkZ7"
      },
      "source": [
        ""
      ],
      "execution_count": null,
      "outputs": []
    },
    {
      "cell_type": "code",
      "metadata": {
        "id": "WxsIJnnLdkct"
      },
      "source": [
        ""
      ],
      "execution_count": null,
      "outputs": []
    },
    {
      "cell_type": "code",
      "metadata": {
        "id": "jwq2jP-1dkfw"
      },
      "source": [
        ""
      ],
      "execution_count": null,
      "outputs": []
    },
    {
      "cell_type": "code",
      "metadata": {
        "id": "pbaQMiJhdkis"
      },
      "source": [
        ""
      ],
      "execution_count": null,
      "outputs": []
    },
    {
      "cell_type": "code",
      "metadata": {
        "id": "Jmg6Lj35dklq"
      },
      "source": [
        ""
      ],
      "execution_count": null,
      "outputs": []
    },
    {
      "cell_type": "code",
      "metadata": {
        "id": "aFA0pvFRdkoL"
      },
      "source": [
        ""
      ],
      "execution_count": null,
      "outputs": []
    },
    {
      "cell_type": "code",
      "metadata": {
        "id": "Sh2DbD01dksA"
      },
      "source": [
        ""
      ],
      "execution_count": null,
      "outputs": []
    },
    {
      "cell_type": "code",
      "metadata": {
        "id": "15uK13Vrdktu"
      },
      "source": [
        ""
      ],
      "execution_count": null,
      "outputs": []
    },
    {
      "cell_type": "code",
      "metadata": {
        "id": "ala4v1f5dkwg"
      },
      "source": [
        ""
      ],
      "execution_count": null,
      "outputs": []
    },
    {
      "cell_type": "code",
      "metadata": {
        "id": "qjVVpiPLdkzc"
      },
      "source": [
        ""
      ],
      "execution_count": null,
      "outputs": []
    },
    {
      "cell_type": "code",
      "metadata": {
        "id": "bwEoTK9ydk2e"
      },
      "source": [
        ""
      ],
      "execution_count": null,
      "outputs": []
    },
    {
      "cell_type": "code",
      "metadata": {
        "id": "dLt0b3vQdk5K"
      },
      "source": [
        ""
      ],
      "execution_count": null,
      "outputs": []
    },
    {
      "cell_type": "code",
      "metadata": {
        "id": "cabFsjXjdk7-"
      },
      "source": [
        ""
      ],
      "execution_count": null,
      "outputs": []
    },
    {
      "cell_type": "code",
      "metadata": {
        "id": "_wgGBB3ldk-9"
      },
      "source": [
        ""
      ],
      "execution_count": null,
      "outputs": []
    },
    {
      "cell_type": "code",
      "metadata": {
        "id": "cZ29Tm8zcqMY"
      },
      "source": [
        ""
      ],
      "execution_count": null,
      "outputs": []
    },
    {
      "cell_type": "code",
      "metadata": {
        "id": "N0MowFS7Cgfc"
      },
      "source": [
        ""
      ],
      "execution_count": null,
      "outputs": []
    },
    {
      "cell_type": "code",
      "metadata": {
        "id": "ZOFQt1UwCgiD"
      },
      "source": [
        ""
      ],
      "execution_count": null,
      "outputs": []
    },
    {
      "cell_type": "code",
      "metadata": {
        "id": "L5-5L33aCgk0"
      },
      "source": [
        ""
      ],
      "execution_count": null,
      "outputs": []
    },
    {
      "cell_type": "code",
      "metadata": {
        "id": "OPSjVLJHCgnm"
      },
      "source": [
        ""
      ],
      "execution_count": null,
      "outputs": []
    },
    {
      "cell_type": "code",
      "metadata": {
        "id": "8zpiQV2oCgp1"
      },
      "source": [
        ""
      ],
      "execution_count": null,
      "outputs": []
    },
    {
      "cell_type": "code",
      "metadata": {
        "id": "D-SDKLVHCgsi"
      },
      "source": [
        ""
      ],
      "execution_count": null,
      "outputs": []
    },
    {
      "cell_type": "code",
      "metadata": {
        "id": "gxg-0XCRCgv8"
      },
      "source": [
        ""
      ],
      "execution_count": null,
      "outputs": []
    },
    {
      "cell_type": "code",
      "metadata": {
        "id": "1YE64ZReCgx_"
      },
      "source": [
        ""
      ],
      "execution_count": null,
      "outputs": []
    },
    {
      "cell_type": "code",
      "metadata": {
        "id": "pNZy9BxJCg0y"
      },
      "source": [
        ""
      ],
      "execution_count": null,
      "outputs": []
    },
    {
      "cell_type": "code",
      "metadata": {
        "id": "0XfWeev-Cg3q"
      },
      "source": [
        ""
      ],
      "execution_count": null,
      "outputs": []
    },
    {
      "cell_type": "code",
      "metadata": {
        "id": "XY82LtqLCg6F"
      },
      "source": [
        ""
      ],
      "execution_count": null,
      "outputs": []
    },
    {
      "cell_type": "code",
      "metadata": {
        "id": "uJ-QOj49Cg81"
      },
      "source": [
        ""
      ],
      "execution_count": null,
      "outputs": []
    },
    {
      "cell_type": "code",
      "metadata": {
        "id": "6RWpOu45Cg_c"
      },
      "source": [
        ""
      ],
      "execution_count": null,
      "outputs": []
    },
    {
      "cell_type": "code",
      "metadata": {
        "id": "hgS6ZdzCChCS"
      },
      "source": [
        ""
      ],
      "execution_count": null,
      "outputs": []
    }
  ]
}